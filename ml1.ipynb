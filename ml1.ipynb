{
  "nbformat": 4,
  "nbformat_minor": 0,
  "metadata": {
    "colab": {
      "provenance": [],
      "authorship_tag": "ABX9TyPue7VtS2PzDNcpIbPPjNNq",
      "include_colab_link": true
    },
    "kernelspec": {
      "name": "python3",
      "display_name": "Python 3"
    },
    "language_info": {
      "name": "python"
    }
  },
  "cells": [
    {
      "cell_type": "markdown",
      "metadata": {
        "id": "view-in-github",
        "colab_type": "text"
      },
      "source": [
        "<a href=\"https://colab.research.google.com/github/Bahodir011/Bahodir011/blob/main/ml1.ipynb\" target=\"_parent\"><img src=\"https://colab.research.google.com/assets/colab-badge.svg\" alt=\"Open In Colab\"/></a>"
      ]
    },
    {
      "cell_type": "code",
      "execution_count": 14,
      "metadata": {
        "id": "WhieoDuq7iLt"
      },
      "outputs": [],
      "source": [
        "import pandas as pd\n",
        "import numpy as np\n",
        "import sklearn\n",
        "import seaborn as sns\n",
        "import matplotlib.pyplot as plt\n",
        "import re\n",
        "%matplotlib inline\n",
        "\n",
        "\n",
        "df = pd.read_csv('https://raw.githubusercontent.com/anvarnarz/praktikum_datasets/main/housing_data_08-02-2021.csv')\n",
        "\n",
        "\n",
        "from sklearn.model_selection import train_test_split\n",
        "train_set, test_set = train_test_split(df, test_size=0.2, random_state=42)\n",
        "\n",
        "housing = train_set.drop(\"price\", axis=1)\n",
        "housing_labels = train_set[\"price\"].copy()\n",
        "\n",
        "housing_num = housing.drop([\"location\", 'district'], axis=1)\n",
        "\n",
        "housing.drop(housing[housing['size'] == 'Площадьземли:1сот'].index, axis = 0, inplace = True)\n",
        "housing_num.drop(housing_num[housing_num['size'] == 'Площадьземли:1сот'].index, axis = 0, inplace = True)\n",
        "housing['size'] = housing['size'].astype(float)\n",
        "#housing_labels.drop(housing_labels[housing_labels['price'] == 'Договорная'].index, axis = 0, inplace = True)\n",
        "#housing_labels['price'] = housing_labels['price'].astype(float)"
      ]
    },
    {
      "cell_type": "code",
      "source": [
        "from sklearn.base import BaseEstimator, TransformerMixin\n",
        "\n",
        "# bizga kerak ustunlar indekslari\n",
        "rooms_ix, size_ix = 2,3\n",
        "\n",
        "class CombinedAttributesAdder(BaseEstimator, TransformerMixin):\n",
        "    def __init__(self, add_size_per_room = True):\n",
        "        self.add_size_per_room = add_size_per_room\n",
        "    def fit(self, X, y=None):\n",
        "        return self # bizni funksiyamiz faqat transformer. estimator emas\n",
        "    def transform(self, X):\n",
        "        size_rooms = X[:, size_ix] / X[:, rooms_ix]\n",
        "\n",
        "        if self.add_size_per_room: # add_bedrooms_per_room ustuni ixtiyoriy bo'ladi\n",
        "            size_rooms = X[:, size_ix] / X[:, rooms_ix]\n",
        "            return np.c_[X, size_rooms ]\n",
        "        else:\n",
        "            return np.c_[X, size_rooms]"
      ],
      "metadata": {
        "id": "5mOTUr9_7pR2"
      },
      "execution_count": 25,
      "outputs": []
    },
    {
      "cell_type": "code",
      "source": [
        "from sklearn.pipeline import Pipeline\n",
        "from sklearn.impute import SimpleImputer\n",
        "from sklearn.preprocessing import OneHotEncoder, StandardScaler"
      ],
      "metadata": {
        "id": "Q_eXCuNB9nut"
      },
      "execution_count": 9,
      "outputs": []
    },
    {
      "cell_type": "code",
      "source": [
        "num_pipeline = Pipeline([\n",
        "          ('imputer', SimpleImputer(strategy='median')),\n",
        "          ('attribs_adder', CombinedAttributesAdder(add_size_per_room = True)),\n",
        "          ('std_scaler', StandardScaler())\n",
        "])"
      ],
      "metadata": {
        "id": "YILrQRV89tHW"
      },
      "execution_count": 10,
      "outputs": []
    },
    {
      "cell_type": "code",
      "source": [
        "num_pipeline.fit_transform(housing_num)"
      ],
      "metadata": {
        "colab": {
          "base_uri": "https://localhost:8080/"
        },
        "id": "k_GufJ-e900G",
        "outputId": "1ad724a1-94ca-4d90-d536-fab8dad23463"
      },
      "execution_count": 27,
      "outputs": [
        {
          "output_type": "execute_result",
          "data": {
            "text/plain": [
              "array([[-0.57728139, -0.03810278, -0.31269743, -0.78951747, -0.53193698],\n",
              "       [ 1.25158231,  0.06792808, -0.75863949, -0.40334253,  0.19982708],\n",
              "       [-1.49171323, -0.04831316, -0.75863949, -0.40334253,  0.19982708],\n",
              "       ...,\n",
              "       [-0.57728139, -0.04045902, -1.20458155, -1.17569241,  0.51344026],\n",
              "       [-0.57728139, -0.03181947, -0.31269743, -0.78951747, -0.53193698],\n",
              "       [ 0.33715046, -0.00668623, -0.75863949,  1.14135724,  1.45427977]])"
            ]
          },
          "metadata": {},
          "execution_count": 27
        }
      ]
    },
    {
      "cell_type": "code",
      "source": [
        "from sklearn.compose import ColumnTransformer\n",
        "\n",
        "num_attribs = list(housing_num)\n",
        "cat_attribs = ['district', 'location']\n",
        "\n",
        "full_pipeline = ColumnTransformer([\n",
        "    ('num', num_pipeline, num_attribs),\n",
        "    ('cat', OneHotEncoder(), cat_attribs)\n",
        "])"
      ],
      "metadata": {
        "id": "HwLOl91e99Xn"
      },
      "execution_count": 23,
      "outputs": []
    },
    {
      "cell_type": "code",
      "source": [
        "housing_pr = full_pipeline.fit_transform(housing)"
      ],
      "metadata": {
        "id": "47EZ8WGzEMk5"
      },
      "execution_count": 26,
      "outputs": []
    },
    {
      "cell_type": "code",
      "source": [
        "housing_pr[0:5, :]"
      ],
      "metadata": {
        "colab": {
          "base_uri": "https://localhost:8080/"
        },
        "id": "siX-1BrYERZJ",
        "outputId": "5f600d8f-d79e-42fd-d0b0-5c06b1204f10"
      },
      "execution_count": 28,
      "outputs": [
        {
          "output_type": "execute_result",
          "data": {
            "text/plain": [
              "<5x1416 sparse matrix of type '<class 'numpy.float64'>'\n",
              "\twith 35 stored elements in Compressed Sparse Row format>"
            ]
          },
          "metadata": {},
          "execution_count": 28
        }
      ]
    },
    {
      "cell_type": "code",
      "source": [],
      "metadata": {
        "id": "60Bn3CjfFKA9"
      },
      "execution_count": null,
      "outputs": []
    }
  ]
}