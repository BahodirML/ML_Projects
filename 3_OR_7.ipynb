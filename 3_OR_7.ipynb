{
  "nbformat": 4,
  "nbformat_minor": 0,
  "metadata": {
    "colab": {
      "provenance": [],
      "gpuType": "T4",
      "authorship_tag": "ABX9TyNSJVU6/nTeYzdg8/pC5sdJ",
      "include_colab_link": true
    },
    "kernelspec": {
      "name": "python3",
      "display_name": "Python 3"
    },
    "language_info": {
      "name": "python"
    },
    "accelerator": "GPU"
  },
  "cells": [
    {
      "cell_type": "markdown",
      "metadata": {
        "id": "view-in-github",
        "colab_type": "text"
      },
      "source": [
        "<a href=\"https://colab.research.google.com/github/BahodirML/AI_Projects/blob/main/3_OR_7.ipynb\" target=\"_parent\"><img src=\"https://colab.research.google.com/assets/colab-badge.svg\" alt=\"Open In Colab\"/></a>"
      ]
    },
    {
      "cell_type": "code",
      "execution_count": 2,
      "metadata": {
        "id": "lSbt6dOX9pWO"
      },
      "outputs": [],
      "source": [
        "import fastai\n",
        "import torch\n",
        "import pandas as pd\n",
        "from fastai.vision.all import *"
      ]
    },
    {
      "cell_type": "code",
      "source": [
        "#path\n",
        "path = untar_data(URLs.MNIST_SAMPLE)\n",
        "\n",
        "\n",
        "threes = (path/'train'/'3').ls().sorted()\n",
        "sevens = (path/'train'/'7').ls().sorted()"
      ],
      "metadata": {
        "id": "LnDWyyIw9-qF"
      },
      "execution_count": 6,
      "outputs": []
    },
    {
      "cell_type": "code",
      "source": [
        "im3_sample = threes[1]\n",
        "im3 = Image.open(im3_sample)\n",
        "im3"
      ],
      "metadata": {
        "colab": {
          "base_uri": "https://localhost:8080/",
          "height": 45
        },
        "id": "5skmIoOG-OMb",
        "outputId": "668c41f8-3003-40b9-8347-ec9935682f80"
      },
      "execution_count": 7,
      "outputs": [
        {
          "output_type": "execute_result",
          "data": {
            "text/plain": [
              "<PIL.PngImagePlugin.PngImageFile image mode=L size=28x28>"
            ],
            "image/png": "[encoded data removed]"
          },
          "metadata": {},
          "execution_count": 7
        }
      ]
    },
    {
      "cell_type": "code",
      "source": [
        "im7_sample = sevens[1]\n",
        "im7 = Image.open(im7_sample)\n",
        "im7"
      ],
      "metadata": {
        "colab": {
          "base_uri": "https://localhost:8080/",
          "height": 45
        },
        "id": "FMQMVbuK-1Ke",
        "outputId": "f424c0d7-8dc9-4818-a9d9-dd7f8716e9eb"
      },
      "execution_count": 8,
      "outputs": [
        {
          "output_type": "execute_result",
          "data": {
            "text/plain": [
              "<PIL.PngImagePlugin.PngImageFile image mode=L size=28x28>"
            ],
            "image/png": "[encoded data removed]"
          },
          "metadata": {},
          "execution_count": 8
        }
      ]
    },
    {
      "cell_type": "code",
      "source": [
        "array(im3)[4:22, 4:22]"
      ],
      "metadata": {
        "colab": {
          "base_uri": "https://localhost:8080/"
        },
        "id": "n4OG467c_BJw",
        "outputId": "1e7017d8-9c01-4f6a-b044-71e35a9fcc71"
      },
      "execution_count": 9,
      "outputs": [
        {
          "output_type": "execute_result",
          "data": {
            "text/plain": [
              "array([[  0,   0,   0,   0,   0,   0,   0,   0,   0,   0,   0,   0,   0,\n",
              "          0,   0,   0,   0,   0],\n",
              "       [  0,   0,   0,   0,   0,  29, 150, 195, 254, 255, 254, 176, 193,\n",
              "        150,  96,   0,   0,   0],\n",
              "       [  0,   0,   0,  48, 166, 224, 253, 253, 234, 196, 253, 253, 253,\n",
              "        253, 233,   0,   0,   0],\n",
              "       [  0,  93, 244, 249, 253, 187,  46,  10,   8,   4,  10, 194, 253,\n",
              "        253, 233,   0,   0,   0],\n",
              "       [  0, 107, 253, 253, 230,  48,   0,   0,   0,   0,   0, 192, 253,\n",
              "        253, 156,   0,   0,   0],\n",
              "       [  0,   3,  20,  20,  15,   0,   0,   0,   0,   0,  43, 224, 253,\n",
              "        245,  74,   0,   0,   0],\n",
              "       [  0,   0,   0,   0,   0,   0,   0,   0,   0,   0, 249, 253, 245,\n",
              "        126,   0,   0,   0,   0],\n",
              "       [  0,   0,   0,   0,   0,   0,   0,  14, 101, 223, 253, 248, 124,\n",
              "          0,   0,   0,   0,   0],\n",
              "       [  0,   0,   0,   0,   0,  11, 166, 239, 253, 253, 253, 187,  30,\n",
              "          0,   0,   0,   0,   0],\n",
              "       [  0,   0,   0,   0,   0,  16, 248, 250, 253, 253, 253, 253, 232,\n",
              "        213, 111,   2,   0,   0],\n",
              "       [  0,   0,   0,   0,   0,   0,   0,  43,  98,  98, 208, 253, 253,\n",
              "        253, 253, 187,  22,   0],\n",
              "       [  0,   0,   0,   0,   0,   0,   0,   0,   0,   0,   9,  51, 119,\n",
              "        253, 253, 253,  76,   0],\n",
              "       [  0,   0,   0,   0,   0,   0,   0,   0,   0,   0,   0,   0,   1,\n",
              "        183, 253, 253, 139,   0],\n",
              "       [  0,   0,   0,   0,   0,   0,   0,   0,   0,   0,   0,   0,   0,\n",
              "        182, 253, 253, 104,   0],\n",
              "       [  0,   0,   0,   0,   0,   0,   0,   0,   0,   0,   0,   0,  85,\n",
              "        249, 253, 253,  36,   0],\n",
              "       [  0,   0,   0,   0,   0,   0,   0,   0,   0,   0,   0,  60, 214,\n",
              "        253, 253, 173,  11,   0],\n",
              "       [  0,   0,   0,   0,   0,   0,   0,   0,   0,   0,  98, 247, 253,\n",
              "        253, 226,   9,   0,   0],\n",
              "       [  0,   0,   0,   0,   0,   0,   0,   0,  42, 150, 252, 253, 253,\n",
              "        233,  53,   0,   0,   0]], dtype=uint8)"
            ]
          },
          "metadata": {},
          "execution_count": 9
        }
      ]
    },
    {
      "cell_type": "code",
      "source": [
        "tensor(im3)[4:22, 4:22]"
      ],
      "metadata": {
        "colab": {
          "base_uri": "https://localhost:8080/"
        },
        "id": "2tUs3OW__G0p",
        "outputId": "8dbde571-8b6f-4064-83d5-b28d76dad8d0"
      },
      "execution_count": 10,
      "outputs": [
        {
          "output_type": "execute_result",
          "data": {
            "text/plain": [
              "tensor([[  0,   0,   0,   0,   0,   0,   0,   0,   0,   0,   0,   0,   0,   0,\n",
              "           0,   0,   0,   0],\n",
              "        [  0,   0,   0,   0,   0,  29, 150, 195, 254, 255, 254, 176, 193, 150,\n",
              "          96,   0,   0,   0],\n",
              "        [  0,   0,   0,  48, 166, 224, 253, 253, 234, 196, 253, 253, 253, 253,\n",
              "         233,   0,   0,   0],\n",
              "        [  0,  93, 244, 249, 253, 187,  46,  10,   8,   4,  10, 194, 253, 253,\n",
              "         233,   0,   0,   0],\n",
              "        [  0, 107, 253, 253, 230,  48,   0,   0,   0,   0,   0, 192, 253, 253,\n",
              "         156,   0,   0,   0],\n",
              "        [  0,   3,  20,  20,  15,   0,   0,   0,   0,   0,  43, 224, 253, 245,\n",
              "          74,   0,   0,   0],\n",
              "        [  0,   0,   0,   0,   0,   0,   0,   0,   0,   0, 249, 253, 245, 126,\n",
              "           0,   0,   0,   0],\n",
              "        [  0,   0,   0,   0,   0,   0,   0,  14, 101, 223, 253, 248, 124,   0,\n",
              "           0,   0,   0,   0],\n",
              "        [  0,   0,   0,   0,   0,  11, 166, 239, 253, 253, 253, 187,  30,   0,\n",
              "           0,   0,   0,   0],\n",
              "        [  0,   0,   0,   0,   0,  16, 248, 250, 253, 253, 253, 253, 232, 213,\n",
              "         111,   2,   0,   0],\n",
              "        [  0,   0,   0,   0,   0,   0,   0,  43,  98,  98, 208, 253, 253, 253,\n",
              "         253, 187,  22,   0],\n",
              "        [  0,   0,   0,   0,   0,   0,   0,   0,   0,   0,   9,  51, 119, 253,\n",
              "         253, 253,  76,   0],\n",
              "        [  0,   0,   0,   0,   0,   0,   0,   0,   0,   0,   0,   0,   1, 183,\n",
              "         253, 253, 139,   0],\n",
              "        [  0,   0,   0,   0,   0,   0,   0,   0,   0,   0,   0,   0,   0, 182,\n",
              "         253, 253, 104,   0],\n",
              "        [  0,   0,   0,   0,   0,   0,   0,   0,   0,   0,   0,   0,  85, 249,\n",
              "         253, 253,  36,   0],\n",
              "        [  0,   0,   0,   0,   0,   0,   0,   0,   0,   0,   0,  60, 214, 253,\n",
              "         253, 173,  11,   0],\n",
              "        [  0,   0,   0,   0,   0,   0,   0,   0,   0,   0,  98, 247, 253, 253,\n",
              "         226,   9,   0,   0],\n",
              "        [  0,   0,   0,   0,   0,   0,   0,   0,  42, 150, 252, 253, 253, 233,\n",
              "          53,   0,   0,   0]], dtype=torch.uint8)"
            ]
          },
          "metadata": {},
          "execution_count": 10
        }
      ]
    },
    {
      "cell_type": "code",
      "source": [
        "from pandas.core.interchange.dataframe_protocol import DataFrame\n",
        "im3_t = tensor(im3)\n",
        "df = pd.DataFrame(im3_t[4:22, 4:22])\n",
        "df.style.set_properties(**{'font-size':'6pt'}).background_gradient('Greys')"
      ],
      "metadata": {
        "colab": {
          "base_uri": "https://localhost:8080/",
          "height": 613
        },
        "id": "Ck4tS-63_MjL",
        "outputId": "91917bf1-460f-44f6-9ba7-4c8b974a96c8"
      },
      "execution_count": 12,
      "outputs": [
        {
          "output_type": "execute_result",
          "data": {
            "text/plain": [
              "<pandas.io.formats.style.Styler at 0x7d915e086860>"
            ],
            "text/html": [
              "<style type=\"text/css\">\n",
              "#T_5662b_row0_col0, #T_5662b_row0_col1, #T_5662b_row0_col2, #T_5662b_row0_col3, #T_5662b_row0_col4, #T_5662b_row0_col5, #T_5662b_row0_col6, #T_5662b_row0_col7, #T_5662b_row0_col8, #T_5662b_row0_col9, #T_5662b_row0_col10, #T_5662b_row0_col11, #T_5662b_row0_col12, #T_5662b_row0_col13, #T_5662b_row0_col14, #T_5662b_row0_col15, #T_5662b_row0_col16, #T_5662b_row0_col17, #T_5662b_row1_col0, #T_5662b_row1_col1, #T_5662b_row1_col2, #T_5662b_row1_col3, #T_5662b_row1_col4, #T_5662b_row1_col15, #T_5662b_row1_col16, #T_5662b_row1_col17, #T_5662b_row2_col0, #T_5662b_row2_col1, #T_5662b_row2_col2, #T_5662b_row2_col15, #T_5662b_row2_col16, #T_5662b_row2_col17, #T_5662b_row3_col0, #T_5662b_row3_col15, #T_5662b_row3_col16, #T_5662b_row3_col17, #T_5662b_row4_col0, #T_5662b_row4_col6, #T_5662b_row4_col7, #T_5662b_row4_col8, #T_5662b_row4_col9, #T_5662b_row4_col10, #T_5662b_row4_col15, #T_5662b_row4_col16, #T_5662b_row4_col17, #T_5662b_row5_col0, #T_5662b_row5_col5, #T_5662b_row5_col6, #T_5662b_row5_col7, #T_5662b_row5_col8, #T_5662b_row5_col9, #T_5662b_row5_col15, #T_5662b_row5_col16, #T_5662b_row5_col17, #T_5662b_row6_col0, #T_5662b_row6_col1, #T_5662b_row6_col2, #T_5662b_row6_col3, #T_5662b_row6_col4, #T_5662b_row6_col5, #T_5662b_row6_col6, #T_5662b_row6_col7, #T_5662b_row6_col8, #T_5662b_row6_col9, #T_5662b_row6_col14, #T_5662b_row6_col15, #T_5662b_row6_col16, #T_5662b_row6_col17, #T_5662b_row7_col0, #T_5662b_row7_col1, #T_5662b_row7_col2, #T_5662b_row7_col3, #T_5662b_row7_col4, #T_5662b_row7_col5, #T_5662b_row7_col6, #T_5662b_row7_col13, #T_5662b_row7_col14, #T_5662b_row7_col15, #T_5662b_row7_col16, #T_5662b_row7_col17, #T_5662b_row8_col0, #T_5662b_row8_col1, #T_5662b_row8_col2, #T_5662b_row8_col3, #T_5662b_row8_col4, #T_5662b_row8_col13, #T_5662b_row8_col14, #T_5662b_row8_col15, #T_5662b_row8_col16, #T_5662b_row8_col17, #T_5662b_row9_col0, #T_5662b_row9_col1, #T_5662b_row9_col2, #T_5662b_row9_col3, #T_5662b_row9_col4, #T_5662b_row9_col16, #T_5662b_row9_col17, #T_5662b_row10_col0, #T_5662b_row10_col1, #T_5662b_row10_col2, #T_5662b_row10_col3, #T_5662b_row10_col4, #T_5662b_row10_col5, #T_5662b_row10_col6, #T_5662b_row10_col17, #T_5662b_row11_col0, #T_5662b_row11_col1, #T_5662b_row11_col2, #T_5662b_row11_col3, #T_5662b_row11_col4, #T_5662b_row11_col5, #T_5662b_row11_col6, #T_5662b_row11_col7, #T_5662b_row11_col8, #T_5662b_row11_col9, #T_5662b_row11_col17, #T_5662b_row12_col0, #T_5662b_row12_col1, #T_5662b_row12_col2, #T_5662b_row12_col3, #T_5662b_row12_col4, #T_5662b_row12_col5, #T_5662b_row12_col6, #T_5662b_row12_col7, #T_5662b_row12_col8, #T_5662b_row12_col9, #T_5662b_row12_col10, #T_5662b_row12_col11, #T_5662b_row12_col12, #T_5662b_row12_col17, #T_5662b_row13_col0, #T_5662b_row13_col1, #T_5662b_row13_col2, #T_5662b_row13_col3, #T_5662b_row13_col4, #T_5662b_row13_col5, #T_5662b_row13_col6, #T_5662b_row13_col7, #T_5662b_row13_col8, #T_5662b_row13_col9, #T_5662b_row13_col10, #T_5662b_row13_col11, #T_5662b_row13_col12, #T_5662b_row13_col17, #T_5662b_row14_col0, #T_5662b_row14_col1, #T_5662b_row14_col2, #T_5662b_row14_col3, #T_5662b_row14_col4, #T_5662b_row14_col5, #T_5662b_row14_col6, #T_5662b_row14_col7, #T_5662b_row14_col8, #T_5662b_row14_col9, #T_5662b_row14_col10, #T_5662b_row14_col11, #T_5662b_row14_col17, #T_5662b_row15_col0, #T_5662b_row15_col1, #T_5662b_row15_col2, #T_5662b_row15_col3, #T_5662b_row15_col4, #T_5662b_row15_col5, #T_5662b_row15_col6, #T_5662b_row15_col7, #T_5662b_row15_col8, #T_5662b_row15_col9, #T_5662b_row15_col10, #T_5662b_row15_col17, #T_5662b_row16_col0, #T_5662b_row16_col1, #T_5662b_row16_col2, #T_5662b_row16_col3, #T_5662b_row16_col4, #T_5662b_row16_col5, #T_5662b_row16_col6, #T_5662b_row16_col7, #T_5662b_row16_col8, #T_5662b_row16_col9, #T_5662b_row16_col16, #T_5662b_row16_col17, #T_5662b_row17_col0, #T_5662b_row17_col1, #T_5662b_row17_col2, #T_5662b_row17_col3, #T_5662b_row17_col4, #T_5662b_row17_col5, #T_5662b_row17_col6, #T_5662b_row17_col7, #T_5662b_row17_col15, #T_5662b_row17_col16, #T_5662b_row17_col17 {\n",
              "  font-size: 6pt;\n",
              "  background-color: #ffffff;\n",
              "  color: #000000;\n",
              "}\n",
              "#T_5662b_row1_col5 {\n",
              "  font-size: 6pt;\n",
              "  background-color: #efefef;\n",
              "  color: #000000;\n",
              "}\n",
              "#T_5662b_row1_col6, #T_5662b_row1_col13 {\n",
              "  font-size: 6pt;\n",
              "  background-color: #7c7c7c;\n",
              "  color: #f1f1f1;\n",
              "}\n",
              "#T_5662b_row1_col7 {\n",
              "  font-size: 6pt;\n",
              "  background-color: #4a4a4a;\n",
              "  color: #f1f1f1;\n",
              "}\n",
              "#T_5662b_row1_col8, #T_5662b_row1_col9, #T_5662b_row1_col10, #T_5662b_row2_col5, #T_5662b_row2_col6, #T_5662b_row2_col7, #T_5662b_row2_col11, #T_5662b_row2_col12, #T_5662b_row2_col13, #T_5662b_row3_col4, #T_5662b_row3_col12, #T_5662b_row3_col13, #T_5662b_row4_col1, #T_5662b_row4_col2, #T_5662b_row4_col3, #T_5662b_row4_col12, #T_5662b_row4_col13, #T_5662b_row5_col12, #T_5662b_row6_col11, #T_5662b_row9_col11, #T_5662b_row10_col11, #T_5662b_row10_col12, #T_5662b_row10_col13, #T_5662b_row10_col14, #T_5662b_row11_col13, #T_5662b_row11_col14, #T_5662b_row11_col15, #T_5662b_row12_col14, #T_5662b_row12_col15, #T_5662b_row12_col16, #T_5662b_row13_col14, #T_5662b_row13_col15, #T_5662b_row14_col14, #T_5662b_row14_col15, #T_5662b_row15_col13, #T_5662b_row15_col14, #T_5662b_row16_col12, #T_5662b_row16_col13, #T_5662b_row17_col11, #T_5662b_row17_col12 {\n",
              "  font-size: 6pt;\n",
              "  background-color: #000000;\n",
              "  color: #f1f1f1;\n",
              "}\n",
              "#T_5662b_row1_col11 {\n",
              "  font-size: 6pt;\n",
              "  background-color: #606060;\n",
              "  color: #f1f1f1;\n",
              "}\n",
              "#T_5662b_row1_col12 {\n",
              "  font-size: 6pt;\n",
              "  background-color: #4d4d4d;\n",
              "  color: #f1f1f1;\n",
              "}\n",
              "#T_5662b_row1_col14 {\n",
              "  font-size: 6pt;\n",
              "  background-color: #bbbbbb;\n",
              "  color: #000000;\n",
              "}\n",
              "#T_5662b_row2_col3 {\n",
              "  font-size: 6pt;\n",
              "  background-color: #e4e4e4;\n",
              "  color: #000000;\n",
              "}\n",
              "#T_5662b_row2_col4, #T_5662b_row8_col6 {\n",
              "  font-size: 6pt;\n",
              "  background-color: #6b6b6b;\n",
              "  color: #f1f1f1;\n",
              "}\n",
              "#T_5662b_row2_col8, #T_5662b_row2_col14, #T_5662b_row3_col14, #T_5662b_row17_col13 {\n",
              "  font-size: 6pt;\n",
              "  background-color: #171717;\n",
              "  color: #f1f1f1;\n",
              "}\n",
              "#T_5662b_row2_col9, #T_5662b_row3_col11 {\n",
              "  font-size: 6pt;\n",
              "  background-color: #4b4b4b;\n",
              "  color: #f1f1f1;\n",
              "}\n",
              "#T_5662b_row2_col10, #T_5662b_row7_col10, #T_5662b_row8_col8, #T_5662b_row8_col10, #T_5662b_row9_col8, #T_5662b_row9_col10 {\n",
              "  font-size: 6pt;\n",
              "  background-color: #010101;\n",
              "  color: #f1f1f1;\n",
              "}\n",
              "#T_5662b_row3_col1 {\n",
              "  font-size: 6pt;\n",
              "  background-color: #272727;\n",
              "  color: #f1f1f1;\n",
              "}\n",
              "#T_5662b_row3_col2 {\n",
              "  font-size: 6pt;\n",
              "  background-color: #0a0a0a;\n",
              "  color: #f1f1f1;\n",
              "}\n",
              "#T_5662b_row3_col3, #T_5662b_row14_col13 {\n",
              "  font-size: 6pt;\n",
              "  background-color: #050505;\n",
              "  color: #f1f1f1;\n",
              "}\n",
              "#T_5662b_row3_col5 {\n",
              "  font-size: 6pt;\n",
              "  background-color: #333333;\n",
              "  color: #f1f1f1;\n",
              "}\n",
              "#T_5662b_row3_col6 {\n",
              "  font-size: 6pt;\n",
              "  background-color: #e6e6e6;\n",
              "  color: #000000;\n",
              "}\n",
              "#T_5662b_row3_col7, #T_5662b_row3_col10 {\n",
              "  font-size: 6pt;\n",
              "  background-color: #fafafa;\n",
              "  color: #000000;\n",
              "}\n",
              "#T_5662b_row3_col8, #T_5662b_row11_col10, #T_5662b_row16_col15 {\n",
              "  font-size: 6pt;\n",
              "  background-color: #fbfbfb;\n",
              "  color: #000000;\n",
              "}\n",
              "#T_5662b_row3_col9 {\n",
              "  font-size: 6pt;\n",
              "  background-color: #fdfdfd;\n",
              "  color: #000000;\n",
              "}\n",
              "#T_5662b_row4_col4 {\n",
              "  font-size: 6pt;\n",
              "  background-color: #1b1b1b;\n",
              "  color: #f1f1f1;\n",
              "}\n",
              "#T_5662b_row4_col5 {\n",
              "  font-size: 6pt;\n",
              "  background-color: #e0e0e0;\n",
              "  color: #000000;\n",
              "}\n",
              "#T_5662b_row4_col11 {\n",
              "  font-size: 6pt;\n",
              "  background-color: #4e4e4e;\n",
              "  color: #f1f1f1;\n",
              "}\n",
              "#T_5662b_row4_col14 {\n",
              "  font-size: 6pt;\n",
              "  background-color: #767676;\n",
              "  color: #f1f1f1;\n",
              "}\n",
              "#T_5662b_row5_col1 {\n",
              "  font-size: 6pt;\n",
              "  background-color: #fcfcfc;\n",
              "  color: #000000;\n",
              "}\n",
              "#T_5662b_row5_col2, #T_5662b_row5_col3, #T_5662b_row15_col16 {\n",
              "  font-size: 6pt;\n",
              "  background-color: #f6f6f6;\n",
              "  color: #000000;\n",
              "}\n",
              "#T_5662b_row5_col4, #T_5662b_row7_col7 {\n",
              "  font-size: 6pt;\n",
              "  background-color: #f8f8f8;\n",
              "  color: #000000;\n",
              "}\n",
              "#T_5662b_row5_col10, #T_5662b_row10_col7 {\n",
              "  font-size: 6pt;\n",
              "  background-color: #e8e8e8;\n",
              "  color: #000000;\n",
              "}\n",
              "#T_5662b_row5_col11 {\n",
              "  font-size: 6pt;\n",
              "  background-color: #222222;\n",
              "  color: #f1f1f1;\n",
              "}\n",
              "#T_5662b_row5_col13, #T_5662b_row6_col12 {\n",
              "  font-size: 6pt;\n",
              "  background-color: #090909;\n",
              "  color: #f1f1f1;\n",
              "}\n",
              "#T_5662b_row5_col14 {\n",
              "  font-size: 6pt;\n",
              "  background-color: #d0d0d0;\n",
              "  color: #000000;\n",
              "}\n",
              "#T_5662b_row6_col10, #T_5662b_row7_col11, #T_5662b_row9_col6 {\n",
              "  font-size: 6pt;\n",
              "  background-color: #060606;\n",
              "  color: #f1f1f1;\n",
              "}\n",
              "#T_5662b_row6_col13 {\n",
              "  font-size: 6pt;\n",
              "  background-color: #979797;\n",
              "  color: #f1f1f1;\n",
              "}\n",
              "#T_5662b_row7_col8 {\n",
              "  font-size: 6pt;\n",
              "  background-color: #b6b6b6;\n",
              "  color: #000000;\n",
              "}\n",
              "#T_5662b_row7_col9 {\n",
              "  font-size: 6pt;\n",
              "  background-color: #252525;\n",
              "  color: #f1f1f1;\n",
              "}\n",
              "#T_5662b_row7_col12 {\n",
              "  font-size: 6pt;\n",
              "  background-color: #999999;\n",
              "  color: #f1f1f1;\n",
              "}\n",
              "#T_5662b_row8_col5 {\n",
              "  font-size: 6pt;\n",
              "  background-color: #f9f9f9;\n",
              "  color: #000000;\n",
              "}\n",
              "#T_5662b_row8_col7 {\n",
              "  font-size: 6pt;\n",
              "  background-color: #101010;\n",
              "  color: #f1f1f1;\n",
              "}\n",
              "#T_5662b_row8_col9, #T_5662b_row9_col9, #T_5662b_row17_col10 {\n",
              "  font-size: 6pt;\n",
              "  background-color: #020202;\n",
              "  color: #f1f1f1;\n",
              "}\n",
              "#T_5662b_row8_col11, #T_5662b_row10_col15 {\n",
              "  font-size: 6pt;\n",
              "  background-color: #545454;\n",
              "  color: #f1f1f1;\n",
              "}\n",
              "#T_5662b_row8_col12 {\n",
              "  font-size: 6pt;\n",
              "  background-color: #f1f1f1;\n",
              "  color: #000000;\n",
              "}\n",
              "#T_5662b_row9_col5 {\n",
              "  font-size: 6pt;\n",
              "  background-color: #f7f7f7;\n",
              "  color: #000000;\n",
              "}\n",
              "#T_5662b_row9_col7 {\n",
              "  font-size: 6pt;\n",
              "  background-color: #030303;\n",
              "  color: #f1f1f1;\n",
              "}\n",
              "#T_5662b_row9_col12 {\n",
              "  font-size: 6pt;\n",
              "  background-color: #181818;\n",
              "  color: #f1f1f1;\n",
              "}\n",
              "#T_5662b_row9_col13 {\n",
              "  font-size: 6pt;\n",
              "  background-color: #303030;\n",
              "  color: #f1f1f1;\n",
              "}\n",
              "#T_5662b_row9_col14 {\n",
              "  font-size: 6pt;\n",
              "  background-color: #a9a9a9;\n",
              "  color: #f1f1f1;\n",
              "}\n",
              "#T_5662b_row9_col15 {\n",
              "  font-size: 6pt;\n",
              "  background-color: #fefefe;\n",
              "  color: #000000;\n",
              "}\n",
              "#T_5662b_row10_col8, #T_5662b_row10_col9, #T_5662b_row16_col10 {\n",
              "  font-size: 6pt;\n",
              "  background-color: #bababa;\n",
              "  color: #000000;\n",
              "}\n",
              "#T_5662b_row10_col10 {\n",
              "  font-size: 6pt;\n",
              "  background-color: #393939;\n",
              "  color: #f1f1f1;\n",
              "}\n",
              "#T_5662b_row10_col16 {\n",
              "  font-size: 6pt;\n",
              "  background-color: #eaeaea;\n",
              "  color: #000000;\n",
              "}\n",
              "#T_5662b_row11_col11 {\n",
              "  font-size: 6pt;\n",
              "  background-color: #e2e2e2;\n",
              "  color: #000000;\n",
              "}\n",
              "#T_5662b_row11_col12 {\n",
              "  font-size: 6pt;\n",
              "  background-color: #9f9f9f;\n",
              "  color: #f1f1f1;\n",
              "}\n",
              "#T_5662b_row11_col16 {\n",
              "  font-size: 6pt;\n",
              "  background-color: #898989;\n",
              "  color: #f1f1f1;\n",
              "}\n",
              "#T_5662b_row12_col13 {\n",
              "  font-size: 6pt;\n",
              "  background-color: #585858;\n",
              "  color: #f1f1f1;\n",
              "}\n",
              "#T_5662b_row13_col13 {\n",
              "  font-size: 6pt;\n",
              "  background-color: #5a5a5a;\n",
              "  color: #f1f1f1;\n",
              "}\n",
              "#T_5662b_row13_col16 {\n",
              "  font-size: 6pt;\n",
              "  background-color: #525252;\n",
              "  color: #f1f1f1;\n",
              "}\n",
              "#T_5662b_row14_col12 {\n",
              "  font-size: 6pt;\n",
              "  background-color: #c5c5c5;\n",
              "  color: #000000;\n",
              "}\n",
              "#T_5662b_row14_col16 {\n",
              "  font-size: 6pt;\n",
              "  background-color: #d7d7d7;\n",
              "  color: #000000;\n",
              "}\n",
              "#T_5662b_row15_col11 {\n",
              "  font-size: 6pt;\n",
              "  background-color: #dcdcdc;\n",
              "  color: #000000;\n",
              "}\n",
              "#T_5662b_row15_col12 {\n",
              "  font-size: 6pt;\n",
              "  background-color: #2f2f2f;\n",
              "  color: #f1f1f1;\n",
              "}\n",
              "#T_5662b_row15_col15 {\n",
              "  font-size: 6pt;\n",
              "  background-color: #636363;\n",
              "  color: #f1f1f1;\n",
              "}\n",
              "#T_5662b_row16_col11 {\n",
              "  font-size: 6pt;\n",
              "  background-color: #070707;\n",
              "  color: #f1f1f1;\n",
              "}\n",
              "#T_5662b_row16_col14 {\n",
              "  font-size: 6pt;\n",
              "  background-color: #1f1f1f;\n",
              "  color: #f1f1f1;\n",
              "}\n",
              "#T_5662b_row17_col8 {\n",
              "  font-size: 6pt;\n",
              "  background-color: #e9e9e9;\n",
              "  color: #000000;\n",
              "}\n",
              "#T_5662b_row17_col9 {\n",
              "  font-size: 6pt;\n",
              "  background-color: #7d7d7d;\n",
              "  color: #f1f1f1;\n",
              "}\n",
              "#T_5662b_row17_col14 {\n",
              "  font-size: 6pt;\n",
              "  background-color: #e1e1e1;\n",
              "  color: #000000;\n",
              "}\n",
              "</style>\n",
              "<table id=\"T_5662b\" class=\"dataframe\">\n",
              "  <thead>\n",
              "    <tr>\n",
              "      <th class=\"blank level0\" >&nbsp;</th>\n",
              "      <th id=\"T_5662b_level0_col0\" class=\"col_heading level0 col0\" >0</th>\n",
              "      <th id=\"T_5662b_level0_col1\" class=\"col_heading level0 col1\" >1</th>\n",
              "      <th id=\"T_5662b_level0_col2\" class=\"col_heading level0 col2\" >2</th>\n",
              "      <th id=\"T_5662b_level0_col3\" class=\"col_heading level0 col3\" >3</th>\n",
              "      <th id=\"T_5662b_level0_col4\" class=\"col_heading level0 col4\" >4</th>\n",
              "      <th id=\"T_5662b_level0_col5\" class=\"col_heading level0 col5\" >5</th>\n",
              "      <th id=\"T_5662b_level0_col6\" class=\"col_heading level0 col6\" >6</th>\n",
              "      <th id=\"T_5662b_level0_col7\" class=\"col_heading level0 col7\" >7</th>\n",
              "      <th id=\"T_5662b_level0_col8\" class=\"col_heading level0 col8\" >8</th>\n",
              "      <th id=\"T_5662b_level0_col9\" class=\"col_heading level0 col9\" >9</th>\n",
              "      <th id=\"T_5662b_level0_col10\" class=\"col_heading level0 col10\" >10</th>\n",
              "      <th id=\"T_5662b_level0_col11\" class=\"col_heading level0 col11\" >11</th>\n",
              "      <th id=\"T_5662b_level0_col12\" class=\"col_heading level0 col12\" >12</th>\n",
              "      <th id=\"T_5662b_level0_col13\" class=\"col_heading level0 col13\" >13</th>\n",
              "      <th id=\"T_5662b_level0_col14\" class=\"col_heading level0 col14\" >14</th>\n",
              "      <th id=\"T_5662b_level0_col15\" class=\"col_heading level0 col15\" >15</th>\n",
              "      <th id=\"T_5662b_level0_col16\" class=\"col_heading level0 col16\" >16</th>\n",
              "      <th id=\"T_5662b_level0_col17\" class=\"col_heading level0 col17\" >17</th>\n",
              "    </tr>\n",
              "  </thead>\n",
              "  <tbody>\n",
              "    <tr>\n",
              "      <th id=\"T_5662b_level0_row0\" class=\"row_heading level0 row0\" >0</th>\n",
              "      <td id=\"T_5662b_row0_col0\" class=\"data row0 col0\" >0</td>\n",
              "      <td id=\"T_5662b_row0_col1\" class=\"data row0 col1\" >0</td>\n",
              "      <td id=\"T_5662b_row0_col2\" class=\"data row0 col2\" >0</td>\n",
              "      <td id=\"T_5662b_row0_col3\" class=\"data row0 col3\" >0</td>\n",
              "      <td id=\"T_5662b_row0_col4\" class=\"data row0 col4\" >0</td>\n",
              "      <td id=\"T_5662b_row0_col5\" class=\"data row0 col5\" >0</td>\n",
              "      <td id=\"T_5662b_row0_col6\" class=\"data row0 col6\" >0</td>\n",
              "      <td id=\"T_5662b_row0_col7\" class=\"data row0 col7\" >0</td>\n",
              "      <td id=\"T_5662b_row0_col8\" class=\"data row0 col8\" >0</td>\n",
              "      <td id=\"T_5662b_row0_col9\" class=\"data row0 col9\" >0</td>\n",
              "      <td id=\"T_5662b_row0_col10\" class=\"data row0 col10\" >0</td>\n",
              "      <td id=\"T_5662b_row0_col11\" class=\"data row0 col11\" >0</td>\n",
              "      <td id=\"T_5662b_row0_col12\" class=\"data row0 col12\" >0</td>\n",
              "      <td id=\"T_5662b_row0_col13\" class=\"data row0 col13\" >0</td>\n",
              "      <td id=\"T_5662b_row0_col14\" class=\"data row0 col14\" >0</td>\n",
              "      <td id=\"T_5662b_row0_col15\" class=\"data row0 col15\" >0</td>\n",
              "      <td id=\"T_5662b_row0_col16\" class=\"data row0 col16\" >0</td>\n",
              "      <td id=\"T_5662b_row0_col17\" class=\"data row0 col17\" >0</td>\n",
              "    </tr>\n",
              "    <tr>\n",
              "      <th id=\"T_5662b_level0_row1\" class=\"row_heading level0 row1\" >1</th>\n",
              "      <td id=\"T_5662b_row1_col0\" class=\"data row1 col0\" >0</td>\n",
              "      <td id=\"T_5662b_row1_col1\" class=\"data row1 col1\" >0</td>\n",
              "      <td id=\"T_5662b_row1_col2\" class=\"data row1 col2\" >0</td>\n",
              "      <td id=\"T_5662b_row1_col3\" class=\"data row1 col3\" >0</td>\n",
              "      <td id=\"T_5662b_row1_col4\" class=\"data row1 col4\" >0</td>\n",
              "      <td id=\"T_5662b_row1_col5\" class=\"data row1 col5\" >29</td>\n",
              "      <td id=\"T_5662b_row1_col6\" class=\"data row1 col6\" >150</td>\n",
              "      <td id=\"T_5662b_row1_col7\" class=\"data row1 col7\" >195</td>\n",
              "      <td id=\"T_5662b_row1_col8\" class=\"data row1 col8\" >254</td>\n",
              "      <td id=\"T_5662b_row1_col9\" class=\"data row1 col9\" >255</td>\n",
              "      <td id=\"T_5662b_row1_col10\" class=\"data row1 col10\" >254</td>\n",
              "      <td id=\"T_5662b_row1_col11\" class=\"data row1 col11\" >176</td>\n",
              "      <td id=\"T_5662b_row1_col12\" class=\"data row1 col12\" >193</td>\n",
              "      <td id=\"T_5662b_row1_col13\" class=\"data row1 col13\" >150</td>\n",
              "      <td id=\"T_5662b_row1_col14\" class=\"data row1 col14\" >96</td>\n",
              "      <td id=\"T_5662b_row1_col15\" class=\"data row1 col15\" >0</td>\n",
              "      <td id=\"T_5662b_row1_col16\" class=\"data row1 col16\" >0</td>\n",
              "      <td id=\"T_5662b_row1_col17\" class=\"data row1 col17\" >0</td>\n",
              "    </tr>\n",
              "    <tr>\n",
              "      <th id=\"T_5662b_level0_row2\" class=\"row_heading level0 row2\" >2</th>\n",
              "      <td id=\"T_5662b_row2_col0\" class=\"data row2 col0\" >0</td>\n",
              "      <td id=\"T_5662b_row2_col1\" class=\"data row2 col1\" >0</td>\n",
              "      <td id=\"T_5662b_row2_col2\" class=\"data row2 col2\" >0</td>\n",
              "      <td id=\"T_5662b_row2_col3\" class=\"data row2 col3\" >48</td>\n",
              "      <td id=\"T_5662b_row2_col4\" class=\"data row2 col4\" >166</td>\n",
              "      <td id=\"T_5662b_row2_col5\" class=\"data row2 col5\" >224</td>\n",
              "      <td id=\"T_5662b_row2_col6\" class=\"data row2 col6\" >253</td>\n",
              "      <td id=\"T_5662b_row2_col7\" class=\"data row2 col7\" >253</td>\n",
              "      <td id=\"T_5662b_row2_col8\" class=\"data row2 col8\" >234</td>\n",
              "      <td id=\"T_5662b_row2_col9\" class=\"data row2 col9\" >196</td>\n",
              "      <td id=\"T_5662b_row2_col10\" class=\"data row2 col10\" >253</td>\n",
              "      <td id=\"T_5662b_row2_col11\" class=\"data row2 col11\" >253</td>\n",
              "      <td id=\"T_5662b_row2_col12\" class=\"data row2 col12\" >253</td>\n",
              "      <td id=\"T_5662b_row2_col13\" class=\"data row2 col13\" >253</td>\n",
              "      <td id=\"T_5662b_row2_col14\" class=\"data row2 col14\" >233</td>\n",
              "      <td id=\"T_5662b_row2_col15\" class=\"data row2 col15\" >0</td>\n",
              "      <td id=\"T_5662b_row2_col16\" class=\"data row2 col16\" >0</td>\n",
              "      <td id=\"T_5662b_row2_col17\" class=\"data row2 col17\" >0</td>\n",
              "    </tr>\n",
              "    <tr>\n",
              "      <th id=\"T_5662b_level0_row3\" class=\"row_heading level0 row3\" >3</th>\n",
              "      <td id=\"T_5662b_row3_col0\" class=\"data row3 col0\" >0</td>\n",
              "      <td id=\"T_5662b_row3_col1\" class=\"data row3 col1\" >93</td>\n",
              "      <td id=\"T_5662b_row3_col2\" class=\"data row3 col2\" >244</td>\n",
              "      <td id=\"T_5662b_row3_col3\" class=\"data row3 col3\" >249</td>\n",
              "      <td id=\"T_5662b_row3_col4\" class=\"data row3 col4\" >253</td>\n",
              "      <td id=\"T_5662b_row3_col5\" class=\"data row3 col5\" >187</td>\n",
              "      <td id=\"T_5662b_row3_col6\" class=\"data row3 col6\" >46</td>\n",
              "      <td id=\"T_5662b_row3_col7\" class=\"data row3 col7\" >10</td>\n",
              "      <td id=\"T_5662b_row3_col8\" class=\"data row3 col8\" >8</td>\n",
              "      <td id=\"T_5662b_row3_col9\" class=\"data row3 col9\" >4</td>\n",
              "      <td id=\"T_5662b_row3_col10\" class=\"data row3 col10\" >10</td>\n",
              "      <td id=\"T_5662b_row3_col11\" class=\"data row3 col11\" >194</td>\n",
              "      <td id=\"T_5662b_row3_col12\" class=\"data row3 col12\" >253</td>\n",
              "      <td id=\"T_5662b_row3_col13\" class=\"data row3 col13\" >253</td>\n",
              "      <td id=\"T_5662b_row3_col14\" class=\"data row3 col14\" >233</td>\n",
              "      <td id=\"T_5662b_row3_col15\" class=\"data row3 col15\" >0</td>\n",
              "      <td id=\"T_5662b_row3_col16\" class=\"data row3 col16\" >0</td>\n",
              "      <td id=\"T_5662b_row3_col17\" class=\"data row3 col17\" >0</td>\n",
              "    </tr>\n",
              "    <tr>\n",
              "      <th id=\"T_5662b_level0_row4\" class=\"row_heading level0 row4\" >4</th>\n",
              "      <td id=\"T_5662b_row4_col0\" class=\"data row4 col0\" >0</td>\n",
              "      <td id=\"T_5662b_row4_col1\" class=\"data row4 col1\" >107</td>\n",
              "      <td id=\"T_5662b_row4_col2\" class=\"data row4 col2\" >253</td>\n",
              "      <td id=\"T_5662b_row4_col3\" class=\"data row4 col3\" >253</td>\n",
              "      <td id=\"T_5662b_row4_col4\" class=\"data row4 col4\" >230</td>\n",
              "      <td id=\"T_5662b_row4_col5\" class=\"data row4 col5\" >48</td>\n",
              "      <td id=\"T_5662b_row4_col6\" class=\"data row4 col6\" >0</td>\n",
              "      <td id=\"T_5662b_row4_col7\" class=\"data row4 col7\" >0</td>\n",
              "      <td id=\"T_5662b_row4_col8\" class=\"data row4 col8\" >0</td>\n",
              "      <td id=\"T_5662b_row4_col9\" class=\"data row4 col9\" >0</td>\n",
              "      <td id=\"T_5662b_row4_col10\" class=\"data row4 col10\" >0</td>\n",
              "      <td id=\"T_5662b_row4_col11\" class=\"data row4 col11\" >192</td>\n",
              "      <td id=\"T_5662b_row4_col12\" class=\"data row4 col12\" >253</td>\n",
              "      <td id=\"T_5662b_row4_col13\" class=\"data row4 col13\" >253</td>\n",
              "      <td id=\"T_5662b_row4_col14\" class=\"data row4 col14\" >156</td>\n",
              "      <td id=\"T_5662b_row4_col15\" class=\"data row4 col15\" >0</td>\n",
              "      <td id=\"T_5662b_row4_col16\" class=\"data row4 col16\" >0</td>\n",
              "      <td id=\"T_5662b_row4_col17\" class=\"data row4 col17\" >0</td>\n",
              "    </tr>\n",
              "    <tr>\n",
              "      <th id=\"T_5662b_level0_row5\" class=\"row_heading level0 row5\" >5</th>\n",
              "      <td id=\"T_5662b_row5_col0\" class=\"data row5 col0\" >0</td>\n",
              "      <td id=\"T_5662b_row5_col1\" class=\"data row5 col1\" >3</td>\n",
              "      <td id=\"T_5662b_row5_col2\" class=\"data row5 col2\" >20</td>\n",
              "      <td id=\"T_5662b_row5_col3\" class=\"data row5 col3\" >20</td>\n",
              "      <td id=\"T_5662b_row5_col4\" class=\"data row5 col4\" >15</td>\n",
              "      <td id=\"T_5662b_row5_col5\" class=\"data row5 col5\" >0</td>\n",
              "      <td id=\"T_5662b_row5_col6\" class=\"data row5 col6\" >0</td>\n",
              "      <td id=\"T_5662b_row5_col7\" class=\"data row5 col7\" >0</td>\n",
              "      <td id=\"T_5662b_row5_col8\" class=\"data row5 col8\" >0</td>\n",
              "      <td id=\"T_5662b_row5_col9\" class=\"data row5 col9\" >0</td>\n",
              "      <td id=\"T_5662b_row5_col10\" class=\"data row5 col10\" >43</td>\n",
              "      <td id=\"T_5662b_row5_col11\" class=\"data row5 col11\" >224</td>\n",
              "      <td id=\"T_5662b_row5_col12\" class=\"data row5 col12\" >253</td>\n",
              "      <td id=\"T_5662b_row5_col13\" class=\"data row5 col13\" >245</td>\n",
              "      <td id=\"T_5662b_row5_col14\" class=\"data row5 col14\" >74</td>\n",
              "      <td id=\"T_5662b_row5_col15\" class=\"data row5 col15\" >0</td>\n",
              "      <td id=\"T_5662b_row5_col16\" class=\"data row5 col16\" >0</td>\n",
              "      <td id=\"T_5662b_row5_col17\" class=\"data row5 col17\" >0</td>\n",
              "    </tr>\n",
              "    <tr>\n",
              "      <th id=\"T_5662b_level0_row6\" class=\"row_heading level0 row6\" >6</th>\n",
              "      <td id=\"T_5662b_row6_col0\" class=\"data row6 col0\" >0</td>\n",
              "      <td id=\"T_5662b_row6_col1\" class=\"data row6 col1\" >0</td>\n",
              "      <td id=\"T_5662b_row6_col2\" class=\"data row6 col2\" >0</td>\n",
              "      <td id=\"T_5662b_row6_col3\" class=\"data row6 col3\" >0</td>\n",
              "      <td id=\"T_5662b_row6_col4\" class=\"data row6 col4\" >0</td>\n",
              "      <td id=\"T_5662b_row6_col5\" class=\"data row6 col5\" >0</td>\n",
              "      <td id=\"T_5662b_row6_col6\" class=\"data row6 col6\" >0</td>\n",
              "      <td id=\"T_5662b_row6_col7\" class=\"data row6 col7\" >0</td>\n",
              "      <td id=\"T_5662b_row6_col8\" class=\"data row6 col8\" >0</td>\n",
              "      <td id=\"T_5662b_row6_col9\" class=\"data row6 col9\" >0</td>\n",
              "      <td id=\"T_5662b_row6_col10\" class=\"data row6 col10\" >249</td>\n",
              "      <td id=\"T_5662b_row6_col11\" class=\"data row6 col11\" >253</td>\n",
              "      <td id=\"T_5662b_row6_col12\" class=\"data row6 col12\" >245</td>\n",
              "      <td id=\"T_5662b_row6_col13\" class=\"data row6 col13\" >126</td>\n",
              "      <td id=\"T_5662b_row6_col14\" class=\"data row6 col14\" >0</td>\n",
              "      <td id=\"T_5662b_row6_col15\" class=\"data row6 col15\" >0</td>\n",
              "      <td id=\"T_5662b_row6_col16\" class=\"data row6 col16\" >0</td>\n",
              "      <td id=\"T_5662b_row6_col17\" class=\"data row6 col17\" >0</td>\n",
              "    </tr>\n",
              "    <tr>\n",
              "      <th id=\"T_5662b_level0_row7\" class=\"row_heading level0 row7\" >7</th>\n",
              "      <td id=\"T_5662b_row7_col0\" class=\"data row7 col0\" >0</td>\n",
              "      <td id=\"T_5662b_row7_col1\" class=\"data row7 col1\" >0</td>\n",
              "      <td id=\"T_5662b_row7_col2\" class=\"data row7 col2\" >0</td>\n",
              "      <td id=\"T_5662b_row7_col3\" class=\"data row7 col3\" >0</td>\n",
              "      <td id=\"T_5662b_row7_col4\" class=\"data row7 col4\" >0</td>\n",
              "      <td id=\"T_5662b_row7_col5\" class=\"data row7 col5\" >0</td>\n",
              "      <td id=\"T_5662b_row7_col6\" class=\"data row7 col6\" >0</td>\n",
              "      <td id=\"T_5662b_row7_col7\" class=\"data row7 col7\" >14</td>\n",
              "      <td id=\"T_5662b_row7_col8\" class=\"data row7 col8\" >101</td>\n",
              "      <td id=\"T_5662b_row7_col9\" class=\"data row7 col9\" >223</td>\n",
              "      <td id=\"T_5662b_row7_col10\" class=\"data row7 col10\" >253</td>\n",
              "      <td id=\"T_5662b_row7_col11\" class=\"data row7 col11\" >248</td>\n",
              "      <td id=\"T_5662b_row7_col12\" class=\"data row7 col12\" >124</td>\n",
              "      <td id=\"T_5662b_row7_col13\" class=\"data row7 col13\" >0</td>\n",
              "      <td id=\"T_5662b_row7_col14\" class=\"data row7 col14\" >0</td>\n",
              "      <td id=\"T_5662b_row7_col15\" class=\"data row7 col15\" >0</td>\n",
              "      <td id=\"T_5662b_row7_col16\" class=\"data row7 col16\" >0</td>\n",
              "      <td id=\"T_5662b_row7_col17\" class=\"data row7 col17\" >0</td>\n",
              "    </tr>\n",
              "    <tr>\n",
              "      <th id=\"T_5662b_level0_row8\" class=\"row_heading level0 row8\" >8</th>\n",
              "      <td id=\"T_5662b_row8_col0\" class=\"data row8 col0\" >0</td>\n",
              "      <td id=\"T_5662b_row8_col1\" class=\"data row8 col1\" >0</td>\n",
              "      <td id=\"T_5662b_row8_col2\" class=\"data row8 col2\" >0</td>\n",
              "      <td id=\"T_5662b_row8_col3\" class=\"data row8 col3\" >0</td>\n",
              "      <td id=\"T_5662b_row8_col4\" class=\"data row8 col4\" >0</td>\n",
              "      <td id=\"T_5662b_row8_col5\" class=\"data row8 col5\" >11</td>\n",
              "      <td id=\"T_5662b_row8_col6\" class=\"data row8 col6\" >166</td>\n",
              "      <td id=\"T_5662b_row8_col7\" class=\"data row8 col7\" >239</td>\n",
              "      <td id=\"T_5662b_row8_col8\" class=\"data row8 col8\" >253</td>\n",
              "      <td id=\"T_5662b_row8_col9\" class=\"data row8 col9\" >253</td>\n",
              "      <td id=\"T_5662b_row8_col10\" class=\"data row8 col10\" >253</td>\n",
              "      <td id=\"T_5662b_row8_col11\" class=\"data row8 col11\" >187</td>\n",
              "      <td id=\"T_5662b_row8_col12\" class=\"data row8 col12\" >30</td>\n",
              "      <td id=\"T_5662b_row8_col13\" class=\"data row8 col13\" >0</td>\n",
              "      <td id=\"T_5662b_row8_col14\" class=\"data row8 col14\" >0</td>\n",
              "      <td id=\"T_5662b_row8_col15\" class=\"data row8 col15\" >0</td>\n",
              "      <td id=\"T_5662b_row8_col16\" class=\"data row8 col16\" >0</td>\n",
              "      <td id=\"T_5662b_row8_col17\" class=\"data row8 col17\" >0</td>\n",
              "    </tr>\n",
              "    <tr>\n",
              "      <th id=\"T_5662b_level0_row9\" class=\"row_heading level0 row9\" >9</th>\n",
              "      <td id=\"T_5662b_row9_col0\" class=\"data row9 col0\" >0</td>\n",
              "      <td id=\"T_5662b_row9_col1\" class=\"data row9 col1\" >0</td>\n",
              "      <td id=\"T_5662b_row9_col2\" class=\"data row9 col2\" >0</td>\n",
              "      <td id=\"T_5662b_row9_col3\" class=\"data row9 col3\" >0</td>\n",
              "      <td id=\"T_5662b_row9_col4\" class=\"data row9 col4\" >0</td>\n",
              "      <td id=\"T_5662b_row9_col5\" class=\"data row9 col5\" >16</td>\n",
              "      <td id=\"T_5662b_row9_col6\" class=\"data row9 col6\" >248</td>\n",
              "      <td id=\"T_5662b_row9_col7\" class=\"data row9 col7\" >250</td>\n",
              "      <td id=\"T_5662b_row9_col8\" class=\"data row9 col8\" >253</td>\n",
              "      <td id=\"T_5662b_row9_col9\" class=\"data row9 col9\" >253</td>\n",
              "      <td id=\"T_5662b_row9_col10\" class=\"data row9 col10\" >253</td>\n",
              "      <td id=\"T_5662b_row9_col11\" class=\"data row9 col11\" >253</td>\n",
              "      <td id=\"T_5662b_row9_col12\" class=\"data row9 col12\" >232</td>\n",
              "      <td id=\"T_5662b_row9_col13\" class=\"data row9 col13\" >213</td>\n",
              "      <td id=\"T_5662b_row9_col14\" class=\"data row9 col14\" >111</td>\n",
              "      <td id=\"T_5662b_row9_col15\" class=\"data row9 col15\" >2</td>\n",
              "      <td id=\"T_5662b_row9_col16\" class=\"data row9 col16\" >0</td>\n",
              "      <td id=\"T_5662b_row9_col17\" class=\"data row9 col17\" >0</td>\n",
              "    </tr>\n",
              "    <tr>\n",
              "      <th id=\"T_5662b_level0_row10\" class=\"row_heading level0 row10\" >10</th>\n",
              "      <td id=\"T_5662b_row10_col0\" class=\"data row10 col0\" >0</td>\n",
              "      <td id=\"T_5662b_row10_col1\" class=\"data row10 col1\" >0</td>\n",
              "      <td id=\"T_5662b_row10_col2\" class=\"data row10 col2\" >0</td>\n",
              "      <td id=\"T_5662b_row10_col3\" class=\"data row10 col3\" >0</td>\n",
              "      <td id=\"T_5662b_row10_col4\" class=\"data row10 col4\" >0</td>\n",
              "      <td id=\"T_5662b_row10_col5\" class=\"data row10 col5\" >0</td>\n",
              "      <td id=\"T_5662b_row10_col6\" class=\"data row10 col6\" >0</td>\n",
              "      <td id=\"T_5662b_row10_col7\" class=\"data row10 col7\" >43</td>\n",
              "      <td id=\"T_5662b_row10_col8\" class=\"data row10 col8\" >98</td>\n",
              "      <td id=\"T_5662b_row10_col9\" class=\"data row10 col9\" >98</td>\n",
              "      <td id=\"T_5662b_row10_col10\" class=\"data row10 col10\" >208</td>\n",
              "      <td id=\"T_5662b_row10_col11\" class=\"data row10 col11\" >253</td>\n",
              "      <td id=\"T_5662b_row10_col12\" class=\"data row10 col12\" >253</td>\n",
              "      <td id=\"T_5662b_row10_col13\" class=\"data row10 col13\" >253</td>\n",
              "      <td id=\"T_5662b_row10_col14\" class=\"data row10 col14\" >253</td>\n",
              "      <td id=\"T_5662b_row10_col15\" class=\"data row10 col15\" >187</td>\n",
              "      <td id=\"T_5662b_row10_col16\" class=\"data row10 col16\" >22</td>\n",
              "      <td id=\"T_5662b_row10_col17\" class=\"data row10 col17\" >0</td>\n",
              "    </tr>\n",
              "    <tr>\n",
              "      <th id=\"T_5662b_level0_row11\" class=\"row_heading level0 row11\" >11</th>\n",
              "      <td id=\"T_5662b_row11_col0\" class=\"data row11 col0\" >0</td>\n",
              "      <td id=\"T_5662b_row11_col1\" class=\"data row11 col1\" >0</td>\n",
              "      <td id=\"T_5662b_row11_col2\" class=\"data row11 col2\" >0</td>\n",
              "      <td id=\"T_5662b_row11_col3\" class=\"data row11 col3\" >0</td>\n",
              "      <td id=\"T_5662b_row11_col4\" class=\"data row11 col4\" >0</td>\n",
              "      <td id=\"T_5662b_row11_col5\" class=\"data row11 col5\" >0</td>\n",
              "      <td id=\"T_5662b_row11_col6\" class=\"data row11 col6\" >0</td>\n",
              "      <td id=\"T_5662b_row11_col7\" class=\"data row11 col7\" >0</td>\n",
              "      <td id=\"T_5662b_row11_col8\" class=\"data row11 col8\" >0</td>\n",
              "      <td id=\"T_5662b_row11_col9\" class=\"data row11 col9\" >0</td>\n",
              "      <td id=\"T_5662b_row11_col10\" class=\"data row11 col10\" >9</td>\n",
              "      <td id=\"T_5662b_row11_col11\" class=\"data row11 col11\" >51</td>\n",
              "      <td id=\"T_5662b_row11_col12\" class=\"data row11 col12\" >119</td>\n",
              "      <td id=\"T_5662b_row11_col13\" class=\"data row11 col13\" >253</td>\n",
              "      <td id=\"T_5662b_row11_col14\" class=\"data row11 col14\" >253</td>\n",
              "      <td id=\"T_5662b_row11_col15\" class=\"data row11 col15\" >253</td>\n",
              "      <td id=\"T_5662b_row11_col16\" class=\"data row11 col16\" >76</td>\n",
              "      <td id=\"T_5662b_row11_col17\" class=\"data row11 col17\" >0</td>\n",
              "    </tr>\n",
              "    <tr>\n",
              "      <th id=\"T_5662b_level0_row12\" class=\"row_heading level0 row12\" >12</th>\n",
              "      <td id=\"T_5662b_row12_col0\" class=\"data row12 col0\" >0</td>\n",
              "      <td id=\"T_5662b_row12_col1\" class=\"data row12 col1\" >0</td>\n",
              "      <td id=\"T_5662b_row12_col2\" class=\"data row12 col2\" >0</td>\n",
              "      <td id=\"T_5662b_row12_col3\" class=\"data row12 col3\" >0</td>\n",
              "      <td id=\"T_5662b_row12_col4\" class=\"data row12 col4\" >0</td>\n",
              "      <td id=\"T_5662b_row12_col5\" class=\"data row12 col5\" >0</td>\n",
              "      <td id=\"T_5662b_row12_col6\" class=\"data row12 col6\" >0</td>\n",
              "      <td id=\"T_5662b_row12_col7\" class=\"data row12 col7\" >0</td>\n",
              "      <td id=\"T_5662b_row12_col8\" class=\"data row12 col8\" >0</td>\n",
              "      <td id=\"T_5662b_row12_col9\" class=\"data row12 col9\" >0</td>\n",
              "      <td id=\"T_5662b_row12_col10\" class=\"data row12 col10\" >0</td>\n",
              "      <td id=\"T_5662b_row12_col11\" class=\"data row12 col11\" >0</td>\n",
              "      <td id=\"T_5662b_row12_col12\" class=\"data row12 col12\" >1</td>\n",
              "      <td id=\"T_5662b_row12_col13\" class=\"data row12 col13\" >183</td>\n",
              "      <td id=\"T_5662b_row12_col14\" class=\"data row12 col14\" >253</td>\n",
              "      <td id=\"T_5662b_row12_col15\" class=\"data row12 col15\" >253</td>\n",
              "      <td id=\"T_5662b_row12_col16\" class=\"data row12 col16\" >139</td>\n",
              "      <td id=\"T_5662b_row12_col17\" class=\"data row12 col17\" >0</td>\n",
              "    </tr>\n",
              "    <tr>\n",
              "      <th id=\"T_5662b_level0_row13\" class=\"row_heading level0 row13\" >13</th>\n",
              "      <td id=\"T_5662b_row13_col0\" class=\"data row13 col0\" >0</td>\n",
              "      <td id=\"T_5662b_row13_col1\" class=\"data row13 col1\" >0</td>\n",
              "      <td id=\"T_5662b_row13_col2\" class=\"data row13 col2\" >0</td>\n",
              "      <td id=\"T_5662b_row13_col3\" class=\"data row13 col3\" >0</td>\n",
              "      <td id=\"T_5662b_row13_col4\" class=\"data row13 col4\" >0</td>\n",
              "      <td id=\"T_5662b_row13_col5\" class=\"data row13 col5\" >0</td>\n",
              "      <td id=\"T_5662b_row13_col6\" class=\"data row13 col6\" >0</td>\n",
              "      <td id=\"T_5662b_row13_col7\" class=\"data row13 col7\" >0</td>\n",
              "      <td id=\"T_5662b_row13_col8\" class=\"data row13 col8\" >0</td>\n",
              "      <td id=\"T_5662b_row13_col9\" class=\"data row13 col9\" >0</td>\n",
              "      <td id=\"T_5662b_row13_col10\" class=\"data row13 col10\" >0</td>\n",
              "      <td id=\"T_5662b_row13_col11\" class=\"data row13 col11\" >0</td>\n",
              "      <td id=\"T_5662b_row13_col12\" class=\"data row13 col12\" >0</td>\n",
              "      <td id=\"T_5662b_row13_col13\" class=\"data row13 col13\" >182</td>\n",
              "      <td id=\"T_5662b_row13_col14\" class=\"data row13 col14\" >253</td>\n",
              "      <td id=\"T_5662b_row13_col15\" class=\"data row13 col15\" >253</td>\n",
              "      <td id=\"T_5662b_row13_col16\" class=\"data row13 col16\" >104</td>\n",
              "      <td id=\"T_5662b_row13_col17\" class=\"data row13 col17\" >0</td>\n",
              "    </tr>\n",
              "    <tr>\n",
              "      <th id=\"T_5662b_level0_row14\" class=\"row_heading level0 row14\" >14</th>\n",
              "      <td id=\"T_5662b_row14_col0\" class=\"data row14 col0\" >0</td>\n",
              "      <td id=\"T_5662b_row14_col1\" class=\"data row14 col1\" >0</td>\n",
              "      <td id=\"T_5662b_row14_col2\" class=\"data row14 col2\" >0</td>\n",
              "      <td id=\"T_5662b_row14_col3\" class=\"data row14 col3\" >0</td>\n",
              "      <td id=\"T_5662b_row14_col4\" class=\"data row14 col4\" >0</td>\n",
              "      <td id=\"T_5662b_row14_col5\" class=\"data row14 col5\" >0</td>\n",
              "      <td id=\"T_5662b_row14_col6\" class=\"data row14 col6\" >0</td>\n",
              "      <td id=\"T_5662b_row14_col7\" class=\"data row14 col7\" >0</td>\n",
              "      <td id=\"T_5662b_row14_col8\" class=\"data row14 col8\" >0</td>\n",
              "      <td id=\"T_5662b_row14_col9\" class=\"data row14 col9\" >0</td>\n",
              "      <td id=\"T_5662b_row14_col10\" class=\"data row14 col10\" >0</td>\n",
              "      <td id=\"T_5662b_row14_col11\" class=\"data row14 col11\" >0</td>\n",
              "      <td id=\"T_5662b_row14_col12\" class=\"data row14 col12\" >85</td>\n",
              "      <td id=\"T_5662b_row14_col13\" class=\"data row14 col13\" >249</td>\n",
              "      <td id=\"T_5662b_row14_col14\" class=\"data row14 col14\" >253</td>\n",
              "      <td id=\"T_5662b_row14_col15\" class=\"data row14 col15\" >253</td>\n",
              "      <td id=\"T_5662b_row14_col16\" class=\"data row14 col16\" >36</td>\n",
              "      <td id=\"T_5662b_row14_col17\" class=\"data row14 col17\" >0</td>\n",
              "    </tr>\n",
              "    <tr>\n",
              "      <th id=\"T_5662b_level0_row15\" class=\"row_heading level0 row15\" >15</th>\n",
              "      <td id=\"T_5662b_row15_col0\" class=\"data row15 col0\" >0</td>\n",
              "      <td id=\"T_5662b_row15_col1\" class=\"data row15 col1\" >0</td>\n",
              "      <td id=\"T_5662b_row15_col2\" class=\"data row15 col2\" >0</td>\n",
              "      <td id=\"T_5662b_row15_col3\" class=\"data row15 col3\" >0</td>\n",
              "      <td id=\"T_5662b_row15_col4\" class=\"data row15 col4\" >0</td>\n",
              "      <td id=\"T_5662b_row15_col5\" class=\"data row15 col5\" >0</td>\n",
              "      <td id=\"T_5662b_row15_col6\" class=\"data row15 col6\" >0</td>\n",
              "      <td id=\"T_5662b_row15_col7\" class=\"data row15 col7\" >0</td>\n",
              "      <td id=\"T_5662b_row15_col8\" class=\"data row15 col8\" >0</td>\n",
              "      <td id=\"T_5662b_row15_col9\" class=\"data row15 col9\" >0</td>\n",
              "      <td id=\"T_5662b_row15_col10\" class=\"data row15 col10\" >0</td>\n",
              "      <td id=\"T_5662b_row15_col11\" class=\"data row15 col11\" >60</td>\n",
              "      <td id=\"T_5662b_row15_col12\" class=\"data row15 col12\" >214</td>\n",
              "      <td id=\"T_5662b_row15_col13\" class=\"data row15 col13\" >253</td>\n",
              "      <td id=\"T_5662b_row15_col14\" class=\"data row15 col14\" >253</td>\n",
              "      <td id=\"T_5662b_row15_col15\" class=\"data row15 col15\" >173</td>\n",
              "      <td id=\"T_5662b_row15_col16\" class=\"data row15 col16\" >11</td>\n",
              "      <td id=\"T_5662b_row15_col17\" class=\"data row15 col17\" >0</td>\n",
              "    </tr>\n",
              "    <tr>\n",
              "      <th id=\"T_5662b_level0_row16\" class=\"row_heading level0 row16\" >16</th>\n",
              "      <td id=\"T_5662b_row16_col0\" class=\"data row16 col0\" >0</td>\n",
              "      <td id=\"T_5662b_row16_col1\" class=\"data row16 col1\" >0</td>\n",
              "      <td id=\"T_5662b_row16_col2\" class=\"data row16 col2\" >0</td>\n",
              "      <td id=\"T_5662b_row16_col3\" class=\"data row16 col3\" >0</td>\n",
              "      <td id=\"T_5662b_row16_col4\" class=\"data row16 col4\" >0</td>\n",
              "      <td id=\"T_5662b_row16_col5\" class=\"data row16 col5\" >0</td>\n",
              "      <td id=\"T_5662b_row16_col6\" class=\"data row16 col6\" >0</td>\n",
              "      <td id=\"T_5662b_row16_col7\" class=\"data row16 col7\" >0</td>\n",
              "      <td id=\"T_5662b_row16_col8\" class=\"data row16 col8\" >0</td>\n",
              "      <td id=\"T_5662b_row16_col9\" class=\"data row16 col9\" >0</td>\n",
              "      <td id=\"T_5662b_row16_col10\" class=\"data row16 col10\" >98</td>\n",
              "      <td id=\"T_5662b_row16_col11\" class=\"data row16 col11\" >247</td>\n",
              "      <td id=\"T_5662b_row16_col12\" class=\"data row16 col12\" >253</td>\n",
              "      <td id=\"T_5662b_row16_col13\" class=\"data row16 col13\" >253</td>\n",
              "      <td id=\"T_5662b_row16_col14\" class=\"data row16 col14\" >226</td>\n",
              "      <td id=\"T_5662b_row16_col15\" class=\"data row16 col15\" >9</td>\n",
              "      <td id=\"T_5662b_row16_col16\" class=\"data row16 col16\" >0</td>\n",
              "      <td id=\"T_5662b_row16_col17\" class=\"data row16 col17\" >0</td>\n",
              "    </tr>\n",
              "    <tr>\n",
              "      <th id=\"T_5662b_level0_row17\" class=\"row_heading level0 row17\" >17</th>\n",
              "      <td id=\"T_5662b_row17_col0\" class=\"data row17 col0\" >0</td>\n",
              "      <td id=\"T_5662b_row17_col1\" class=\"data row17 col1\" >0</td>\n",
              "      <td id=\"T_5662b_row17_col2\" class=\"data row17 col2\" >0</td>\n",
              "      <td id=\"T_5662b_row17_col3\" class=\"data row17 col3\" >0</td>\n",
              "      <td id=\"T_5662b_row17_col4\" class=\"data row17 col4\" >0</td>\n",
              "      <td id=\"T_5662b_row17_col5\" class=\"data row17 col5\" >0</td>\n",
              "      <td id=\"T_5662b_row17_col6\" class=\"data row17 col6\" >0</td>\n",
              "      <td id=\"T_5662b_row17_col7\" class=\"data row17 col7\" >0</td>\n",
              "      <td id=\"T_5662b_row17_col8\" class=\"data row17 col8\" >42</td>\n",
              "      <td id=\"T_5662b_row17_col9\" class=\"data row17 col9\" >150</td>\n",
              "      <td id=\"T_5662b_row17_col10\" class=\"data row17 col10\" >252</td>\n",
              "      <td id=\"T_5662b_row17_col11\" class=\"data row17 col11\" >253</td>\n",
              "      <td id=\"T_5662b_row17_col12\" class=\"data row17 col12\" >253</td>\n",
              "      <td id=\"T_5662b_row17_col13\" class=\"data row17 col13\" >233</td>\n",
              "      <td id=\"T_5662b_row17_col14\" class=\"data row17 col14\" >53</td>\n",
              "      <td id=\"T_5662b_row17_col15\" class=\"data row17 col15\" >0</td>\n",
              "      <td id=\"T_5662b_row17_col16\" class=\"data row17 col16\" >0</td>\n",
              "      <td id=\"T_5662b_row17_col17\" class=\"data row17 col17\" >0</td>\n",
              "    </tr>\n",
              "  </tbody>\n",
              "</table>\n"
            ]
          },
          "metadata": {},
          "execution_count": 12
        }
      ]
    },
    {
      "cell_type": "code",
      "source": [
        "three_tensors = [tensor(Image.open(i)) for i in threes]\n",
        "seven_tensors = [tensor(Image.open(i)) for i in sevens]\n",
        "len(three_tensors), len(seven_tensors)"
      ],
      "metadata": {
        "colab": {
          "base_uri": "https://localhost:8080/"
        },
        "id": "yqa_wagl_92D",
        "outputId": "ce122bb7-4ce6-4d16-9212-67cee69c31ad"
      },
      "execution_count": 13,
      "outputs": [
        {
          "output_type": "execute_result",
          "data": {
            "text/plain": [
              "(6131, 6265)"
            ]
          },
          "metadata": {},
          "execution_count": 13
        }
      ]
    },
    {
      "cell_type": "code",
      "source": [
        "stacked_threes = torch.stack(three_tensors).float()/255\n",
        "stacked_sevens = torch.stack(seven_tensors).float()/255\n",
        "stacked_threes.shape"
      ],
      "metadata": {
        "colab": {
          "base_uri": "https://localhost:8080/"
        },
        "id": "RcceZ-G2A7n7",
        "outputId": "ff0f1c16-95ea-4558-81a7-80bd6422450c"
      },
      "execution_count": 14,
      "outputs": [
        {
          "output_type": "execute_result",
          "data": {
            "text/plain": [
              "torch.Size([6131, 28, 28])"
            ]
          },
          "metadata": {},
          "execution_count": 14
        }
      ]
    },
    {
      "cell_type": "code",
      "source": [
        "mean3 = stacked_threes.mean(0)\n",
        "show_image(mean3)"
      ],
      "metadata": {
        "colab": {
          "base_uri": "https://localhost:8080/",
          "height": 132
        },
        "id": "Gr3fkTBSBVcY",
        "outputId": "9833b9e0-2dd3-4ea5-d5e4-ee4c1dc3640c"
      },
      "execution_count": 19,
      "outputs": [
        {
          "output_type": "execute_result",
          "data": {
            "text/plain": [
              "<Axes: >"
            ]
          },
          "metadata": {},
          "execution_count": 19
        },
        {
          "output_type": "display_data",
          "data": {
            "text/plain": [
              "<Figure size 100x100 with 1 Axes>"
            ],
            "image/png": "[encoded data removed]"
          },
          "metadata": {}
        }
      ]
    },
    {
      "cell_type": "code",
      "source": [
        "mean7 = stacked_sevens.mean(0)\n",
        "show_image(mean7)"
      ],
      "metadata": {
        "colab": {
          "base_uri": "https://localhost:8080/",
          "height": 132
        },
        "id": "xA3r0_r_B8af",
        "outputId": "7b4b1a48-82df-4f57-8958-7228e3d87b88"
      },
      "execution_count": 20,
      "outputs": [
        {
          "output_type": "execute_result",
          "data": {
            "text/plain": [
              "<Axes: >"
            ]
          },
          "metadata": {},
          "execution_count": 20
        },
        {
          "output_type": "display_data",
          "data": {
            "text/plain": [
              "<Figure size 100x100 with 1 Axes>"
            ],
            "image/png": "[encoded data removed]"
          },
          "metadata": {}
        }
      ]
    },
    {
      "cell_type": "code",
      "source": [
        "s_3 = stacked_threes[3]\n",
        "show_image(s_3)"
      ],
      "metadata": {
        "colab": {
          "base_uri": "https://localhost:8080/",
          "height": 132
        },
        "id": "Rh1RnldYDB0l",
        "outputId": "a3f713e6-67c4-4fa5-ce1b-a65e8d6ce86d"
      },
      "execution_count": 21,
      "outputs": [
        {
          "output_type": "execute_result",
          "data": {
            "text/plain": [
              "<Axes: >"
            ]
          },
          "metadata": {},
          "execution_count": 21
        },
        {
          "output_type": "display_data",
          "data": {
            "text/plain": [
              "<Figure size 100x100 with 1 Axes>"
            ],
            "image/png": "[encoded data removed]"
          },
          "metadata": {}
        }
      ]
    },
    {
      "cell_type": "code",
      "source": [
        "s_7 = stacked_sevens[3]\n",
        "show_image(s_7)"
      ],
      "metadata": {
        "colab": {
          "base_uri": "https://localhost:8080/",
          "height": 132
        },
        "id": "m1GTZCXhD_0D",
        "outputId": "86a44e71-5913-4361-c069-c23779fb5771"
      },
      "execution_count": 23,
      "outputs": [
        {
          "output_type": "execute_result",
          "data": {
            "text/plain": [
              "<Axes: >"
            ]
          },
          "metadata": {},
          "execution_count": 23
        },
        {
          "output_type": "display_data",
          "data": {
            "text/plain": [
              "<Figure size 100x100 with 1 Axes>"
            ],
            "image/png": "[encoded data removed]"
          },
          "metadata": {}
        }
      ]
    },
    {
      "cell_type": "code",
      "source": [
        "#MAE\n",
        "mae = (s_3 - mean3).abs().mean()\n",
        "\n",
        "#RMSE\n",
        "\n",
        "rmse = ((s_3 - mean3)**2).mean().sqrt()\n",
        "\n",
        "mae, rmse"
      ],
      "metadata": {
        "colab": {
          "base_uri": "https://localhost:8080/"
        },
        "id": "Z58TdDjIDHRA",
        "outputId": "c51fe743-3151-4701-e639-d23af020b4e4"
      },
      "execution_count": 22,
      "outputs": [
        {
          "output_type": "execute_result",
          "data": {
            "text/plain": [
              "(tensor(0.1154), tensor(0.2064))"
            ]
          },
          "metadata": {},
          "execution_count": 22
        }
      ]
    },
    {
      "cell_type": "code",
      "source": [
        "#MAE\n",
        "mae = (s_3 - mean7).abs().mean()\n",
        "\n",
        "#RMSE\n",
        "\n",
        "rmse = ((s_3 - mean7)**2).mean().sqrt()\n",
        "\n",
        "mae, rmse"
      ],
      "metadata": {
        "colab": {
          "base_uri": "https://localhost:8080/"
        },
        "id": "czQaFqX4D3ll",
        "outputId": "8d54c37c-2560-496b-baa1-3b56d300764f"
      },
      "execution_count": 25,
      "outputs": [
        {
          "output_type": "execute_result",
          "data": {
            "text/plain": [
              "(tensor(0.1669), tensor(0.3170))"
            ]
          },
          "metadata": {},
          "execution_count": 25
        }
      ]
    }
  ]
}