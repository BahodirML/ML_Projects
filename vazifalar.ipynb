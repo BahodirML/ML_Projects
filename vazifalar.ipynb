{
  "nbformat": 4,
  "nbformat_minor": 0,
  "metadata": {
    "colab": {
      "provenance": [],
      "authorship_tag": "ABX9TyPFzSjVvF0BVwoMo3OhUs9S",
      "include_colab_link": true
    },
    "kernelspec": {
      "name": "python3",
      "display_name": "Python 3"
    },
    "language_info": {
      "name": "python"
    }
  },
  "cells": [
    {
      "cell_type": "markdown",
      "metadata": {
        "id": "view-in-github",
        "colab_type": "text"
      },
      "source": [
        "<a href=\"https://colab.research.google.com/github/Bahodir011/Bahodir011/blob/main/vazifalar.ipynb\" target=\"_parent\"><img src=\"https://colab.research.google.com/assets/colab-badge.svg\" alt=\"Open In Colab\"/></a>"
      ]
    },
    {
      "cell_type": "code",
      "execution_count": 1,
      "metadata": {
        "id": "71EWYCQaBtU7"
      },
      "outputs": [],
      "source": [
        "import numpy as np"
      ]
    },
    {
      "cell_type": "code",
      "source": [
        "arr0 = np.array(np.arange(9))\n",
        "arr0"
      ],
      "metadata": {
        "colab": {
          "base_uri": "https://localhost:8080/"
        },
        "id": "PCbqrgWKB4Ox",
        "outputId": "4591ab24-9f01-4f5c-bd2b-61bf8bdd5abe"
      },
      "execution_count": 9,
      "outputs": [
        {
          "output_type": "execute_result",
          "data": {
            "text/plain": [
              "array([0, 1, 2, 3, 4, 5, 6, 7, 8])"
            ]
          },
          "metadata": {},
          "execution_count": 9
        }
      ]
    },
    {
      "cell_type": "code",
      "source": [
        "arr = np.zeros(9)\n",
        "arr"
      ],
      "metadata": {
        "colab": {
          "base_uri": "https://localhost:8080/"
        },
        "id": "D7oU3qGGCXOY",
        "outputId": "77468e25-0963-417b-efe9-14d597e09114"
      },
      "execution_count": 3,
      "outputs": [
        {
          "output_type": "execute_result",
          "data": {
            "text/plain": [
              "array([0., 0., 0., 0., 0., 0., 0., 0., 0.])"
            ]
          },
          "metadata": {},
          "execution_count": 3
        }
      ]
    },
    {
      "cell_type": "code",
      "source": [
        "arr1 = np.arange(12)\n",
        "arr1\n",
        "data = np.size(arr1)\n",
        "data"
      ],
      "metadata": {
        "colab": {
          "base_uri": "https://localhost:8080/"
        },
        "id": "E5Snfq8WCivv",
        "outputId": "442670dd-0bae-47be-cb0d-82083a99a2e7"
      },
      "execution_count": 6,
      "outputs": [
        {
          "output_type": "execute_result",
          "data": {
            "text/plain": [
              "12"
            ]
          },
          "metadata": {},
          "execution_count": 6
        }
      ]
    },
    {
      "cell_type": "code",
      "source": [
        "arr2 = np.arange(10)\n",
        "arr2\n",
        "data2 = np.info(arr2)"
      ],
      "metadata": {
        "colab": {
          "base_uri": "https://localhost:8080/"
        },
        "id": "pYnKk2JxC2H1",
        "outputId": "8420b081-4ad0-4795-a74a-2f6e3bd5fc81"
      },
      "execution_count": 11,
      "outputs": [
        {
          "output_type": "stream",
          "name": "stdout",
          "text": [
            "class:  ndarray\n",
            "shape:  (10,)\n",
            "strides:  (8,)\n",
            "itemsize:  8\n",
            "aligned:  True\n",
            "contiguous:  True\n",
            "fortran:  True\n",
            "data pointer: 0x389e1d0\n",
            "byteorder:  little\n",
            "byteswap:  False\n",
            "type: int64\n"
          ]
        }
      ]
    },
    {
      "cell_type": "code",
      "source": [
        "vect = np.zeros(13)\n",
        "vect[6] = 1\n",
        "vect"
      ],
      "metadata": {
        "colab": {
          "base_uri": "https://localhost:8080/"
        },
        "id": "O8RaDiWaEb-Q",
        "outputId": "4482f2d0-00d0-4030-c7d2-a583c7c1a018"
      },
      "execution_count": 12,
      "outputs": [
        {
          "output_type": "execute_result",
          "data": {
            "text/plain": [
              "array([0., 0., 0., 0., 0., 0., 1., 0., 0., 0., 0., 0., 0.])"
            ]
          },
          "metadata": {},
          "execution_count": 12
        }
      ]
    },
    {
      "cell_type": "code",
      "source": [
        "vect1 = np.arange(20,60)\n",
        "vect1"
      ],
      "metadata": {
        "colab": {
          "base_uri": "https://localhost:8080/"
        },
        "id": "bqbJwIiGE3Ve",
        "outputId": "35627904-ffe2-440e-a964-187391176352"
      },
      "execution_count": 13,
      "outputs": [
        {
          "output_type": "execute_result",
          "data": {
            "text/plain": [
              "array([20, 21, 22, 23, 24, 25, 26, 27, 28, 29, 30, 31, 32, 33, 34, 35, 36,\n",
              "       37, 38, 39, 40, 41, 42, 43, 44, 45, 46, 47, 48, 49, 50, 51, 52, 53,\n",
              "       54, 55, 56, 57, 58, 59])"
            ]
          },
          "metadata": {},
          "execution_count": 13
        }
      ]
    },
    {
      "cell_type": "code",
      "source": [
        "vect2 = np.arange(-30,-5)\n",
        "vect2"
      ],
      "metadata": {
        "colab": {
          "base_uri": "https://localhost:8080/"
        },
        "id": "zR0Fu87eE-l2",
        "outputId": "30f0bde7-6268-4c49-e97b-9cf09358d855"
      },
      "execution_count": 15,
      "outputs": [
        {
          "output_type": "execute_result",
          "data": {
            "text/plain": [
              "array([-30, -29, -28, -27, -26, -25, -24, -23, -22, -21, -20, -19, -18,\n",
              "       -17, -16, -15, -14, -13, -12, -11, -10,  -9,  -8,  -7,  -6])"
            ]
          },
          "metadata": {},
          "execution_count": 15
        }
      ]
    },
    {
      "cell_type": "code",
      "source": [
        "mat = np.arange(12,21).reshape(3,3)\n",
        "mat\n"
      ],
      "metadata": {
        "colab": {
          "base_uri": "https://localhost:8080/"
        },
        "id": "rySfFsJZFH7t",
        "outputId": "56fc047b-89ed-45cd-d41d-3d0ccd6a8ce0"
      },
      "execution_count": 18,
      "outputs": [
        {
          "output_type": "execute_result",
          "data": {
            "text/plain": [
              "array([[12, 13, 14],\n",
              "       [15, 16, 17],\n",
              "       [18, 19, 20]])"
            ]
          },
          "metadata": {},
          "execution_count": 18
        }
      ]
    },
    {
      "cell_type": "code",
      "source": [
        "mat1 = [3,7,0,0,9,0]\n",
        "info = np.nonzero(mat1)\n",
        "info"
      ],
      "metadata": {
        "colab": {
          "base_uri": "https://localhost:8080/"
        },
        "id": "0rEPlE3KFg-Z",
        "outputId": "1c387d5a-0234-4cf6-e2ce-e36ff0022b65"
      },
      "execution_count": 21,
      "outputs": [
        {
          "output_type": "execute_result",
          "data": {
            "text/plain": [
              "(array([0, 1, 4]),)"
            ]
          },
          "metadata": {},
          "execution_count": 21
        }
      ]
    },
    {
      "cell_type": "code",
      "source": [
        "# 10 ta vazifa tamomlandi"
      ],
      "metadata": {
        "id": "ASbOUylkGcd4"
      },
      "execution_count": 22,
      "outputs": []
    },
    {
      "cell_type": "code",
      "source": [
        "mass = np.random.randn(2,2)\n",
        "mass"
      ],
      "metadata": {
        "colab": {
          "base_uri": "https://localhost:8080/"
        },
        "id": "D0iGr1h1GtE4",
        "outputId": "677fcdb6-0513-4f80-de17-ce81b9a20348"
      },
      "execution_count": 28,
      "outputs": [
        {
          "output_type": "execute_result",
          "data": {
            "text/plain": [
              "array([[ 0.02081996,  0.13519588],\n",
              "       [-0.46031217,  1.16608542]])"
            ]
          },
          "metadata": {},
          "execution_count": 28
        }
      ]
    },
    {
      "cell_type": "code",
      "source": [
        "mass1 = np.arange(81).reshape(9,9)\n",
        "mass1\n",
        "maxmass = np.max(mass1)\n",
        "minmass = np.min(mass1)\n",
        "maxmass\n",
        "minmass"
      ],
      "metadata": {
        "colab": {
          "base_uri": "https://localhost:8080/"
        },
        "id": "iWw_MRFbG4Yx",
        "outputId": "e27ef316-2b24-48a7-b9d2-1220859d0e97"
      },
      "execution_count": 37,
      "outputs": [
        {
          "output_type": "execute_result",
          "data": {
            "text/plain": [
              "0"
            ]
          },
          "metadata": {},
          "execution_count": 37
        }
      ]
    },
    {
      "cell_type": "code",
      "source": [
        "0 * np.nan\n",
        "np.nan == np.nan\n",
        "np.inf > np.nan\n",
        "np.nan - np.nan\n",
        "np.nan in set([np.nan])\n",
        "0.7 == 7 * 0.1"
      ],
      "metadata": {
        "colab": {
          "base_uri": "https://localhost:8080/"
        },
        "id": "pce1zalsHP4g",
        "outputId": "4d4f2976-45e9-4578-fbf8-9a2585892272"
      },
      "execution_count": 39,
      "outputs": [
        {
          "output_type": "execute_result",
          "data": {
            "text/plain": [
              "False"
            ]
          },
          "metadata": {},
          "execution_count": 39
        }
      ]
    },
    {
      "cell_type": "code",
      "source": [
        "mat63 = np.arange(0,18).reshape(6,3)\n",
        "mat34 = np.arange(0,12).reshape(3,4)\n",
        "\n",
        "ma = np.dot(mat63, mat34)\n",
        "\n",
        "ma"
      ],
      "metadata": {
        "colab": {
          "base_uri": "https://localhost:8080/"
        },
        "id": "zA3WOjzjmQ1m",
        "outputId": "63309eb9-e15d-49c4-f88a-9c1b8691bdba"
      },
      "execution_count": 49,
      "outputs": [
        {
          "output_type": "execute_result",
          "data": {
            "text/plain": [
              "array([[ 20,  23,  26,  29],\n",
              "       [ 56,  68,  80,  92],\n",
              "       [ 92, 113, 134, 155],\n",
              "       [128, 158, 188, 218],\n",
              "       [164, 203, 242, 281],\n",
              "       [200, 248, 296, 344]])"
            ]
          },
          "metadata": {},
          "execution_count": 49
        }
      ]
    },
    {
      "cell_type": "code",
      "source": [
        "print(sum(range(5),-1))\n",
        "from numpy import *\n",
        "print(sum(range(5),-1))"
      ],
      "metadata": {
        "colab": {
          "base_uri": "https://localhost:8080/"
        },
        "id": "d5RLGpZLoD94",
        "outputId": "d48cf6b3-eb83-4341-fe55-85fd72f1c03e"
      },
      "execution_count": 51,
      "outputs": [
        {
          "output_type": "stream",
          "name": "stdout",
          "text": [
            "10\n",
            "10\n"
          ]
        }
      ]
    },
    {
      "cell_type": "code",
      "source": [
        "arra = np.arange(3)\n",
        "arrb = np.arange(3,6)\n"
      ],
      "metadata": {
        "id": "5vpJLcZSpCuD"
      },
      "execution_count": 53,
      "outputs": []
    },
    {
      "cell_type": "code",
      "source": [
        "arra > arrb"
      ],
      "metadata": {
        "colab": {
          "base_uri": "https://localhost:8080/"
        },
        "id": "gHqfZ5_MpP3v",
        "outputId": "5c82dee5-ca18-4d6c-dca9-f455d0ec8b90"
      },
      "execution_count": 55,
      "outputs": [
        {
          "output_type": "execute_result",
          "data": {
            "text/plain": [
              "array([False, False, False])"
            ]
          },
          "metadata": {},
          "execution_count": 55
        }
      ]
    },
    {
      "cell_type": "code",
      "source": [
        "arra >= arrb"
      ],
      "metadata": {
        "colab": {
          "base_uri": "https://localhost:8080/"
        },
        "id": "ksc533BDpU4l",
        "outputId": "524c57f4-0642-4f77-ff33-89f407e4242c"
      },
      "execution_count": 56,
      "outputs": [
        {
          "output_type": "execute_result",
          "data": {
            "text/plain": [
              "array([False, False, False])"
            ]
          },
          "metadata": {},
          "execution_count": 56
        }
      ]
    },
    {
      "cell_type": "code",
      "source": [
        "arra < arrb "
      ],
      "metadata": {
        "colab": {
          "base_uri": "https://localhost:8080/"
        },
        "id": "g515gV5lpXJu",
        "outputId": "d14845ec-4f3a-47f2-884b-fe6c9daf86a4"
      },
      "execution_count": 57,
      "outputs": [
        {
          "output_type": "execute_result",
          "data": {
            "text/plain": [
              "array([ True,  True,  True])"
            ]
          },
          "metadata": {},
          "execution_count": 57
        }
      ]
    },
    {
      "cell_type": "code",
      "source": [
        "arra <= arrb"
      ],
      "metadata": {
        "colab": {
          "base_uri": "https://localhost:8080/"
        },
        "id": "lexGFClHpZWb",
        "outputId": "19526c2c-364b-48bf-a34f-7514e7f6a359"
      },
      "execution_count": 58,
      "outputs": [
        {
          "output_type": "execute_result",
          "data": {
            "text/plain": [
              "array([ True,  True,  True])"
            ]
          },
          "metadata": {},
          "execution_count": 58
        }
      ]
    },
    {
      "cell_type": "code",
      "source": [
        "np.array(0) / np.array(0)\n",
        "np.array(0) // np.array(0)\n",
        "np.array([np.nan]).astype(int).astype(float)"
      ],
      "metadata": {
        "colab": {
          "base_uri": "https://localhost:8080/"
        },
        "id": "OqYMdHxEprO5",
        "outputId": "8e6d47c0-1b87-4569-f956-00a02cc56eb9"
      },
      "execution_count": 59,
      "outputs": [
        {
          "output_type": "stream",
          "name": "stderr",
          "text": [
            "<ipython-input-59-cd809174da5d>:1: RuntimeWarning: invalid value encountered in true_divide\n",
            "  np.array(0) / np.array(0)\n",
            "<ipython-input-59-cd809174da5d>:2: RuntimeWarning: divide by zero encountered in floor_divide\n",
            "  np.array(0) // np.array(0)\n"
          ]
        },
        {
          "output_type": "execute_result",
          "data": {
            "text/plain": [
              "array([-9.22337204e+18])"
            ]
          },
          "metadata": {},
          "execution_count": 59
        }
      ]
    },
    {
      "cell_type": "code",
      "source": [
        "massive = np.array([2,3,4,5,6,7,8])\n",
        "massive1 = np.array([5,3,78,9,0,6,88])\n",
        "intersection = intersect1d(massive, massive1)\n",
        "intersection"
      ],
      "metadata": {
        "colab": {
          "base_uri": "https://localhost:8080/"
        },
        "id": "xk53oywmpsEV",
        "outputId": "8f9d8e31-6725-4b47-de89-3f0894cb1401"
      },
      "execution_count": 64,
      "outputs": [
        {
          "output_type": "execute_result",
          "data": {
            "text/plain": [
              "array([3, 5, 6])"
            ]
          },
          "metadata": {},
          "execution_count": 64
        }
      ]
    },
    {
      "cell_type": "code",
      "source": [
        "tasodif = np.random.randn(6,2)\n",
        "ts = np.trunc(tasodif)\n",
        "ts"
      ],
      "metadata": {
        "colab": {
          "base_uri": "https://localhost:8080/"
        },
        "id": "IXi-UgZZ5KQj",
        "outputId": "ad92c2a3-b512-4a76-d8da-2261095e8661"
      },
      "execution_count": 67,
      "outputs": [
        {
          "output_type": "execute_result",
          "data": {
            "text/plain": [
              "array([[ 1.,  0.],\n",
              "       [ 1.,  1.],\n",
              "       [ 0., -0.],\n",
              "       [ 0., -0.],\n",
              "       [-0.,  1.],\n",
              "       [-0., -0.]])"
            ]
          },
          "metadata": {},
          "execution_count": 67
        }
      ]
    },
    {
      "cell_type": "code",
      "source": [],
      "metadata": {
        "id": "XXHEgyQ26_hD"
      },
      "execution_count": null,
      "outputs": []
    },
    {
      "cell_type": "code",
      "source": [
        "#20 mashq tugadi!!!!!"
      ],
      "metadata": {
        "id": "1evNzfuIrYy4"
      },
      "execution_count": null,
      "outputs": []
    },
    {
      "cell_type": "code",
      "source": [
        "# 21 mashq\n",
        "sorting = np.random.randn(10)\n",
        "sorts = np.sort(sorting)\n",
        "sorts"
      ],
      "metadata": {
        "colab": {
          "base_uri": "https://localhost:8080/"
        },
        "id": "Gmm3nZXoqo5a",
        "outputId": "4d802521-d0b4-4a2f-86f5-5e46323686ba"
      },
      "execution_count": 63,
      "outputs": [
        {
          "output_type": "execute_result",
          "data": {
            "text/plain": [
              "array([-1.50037972, -1.05933434, -0.64674539, -0.26078061, -0.05673674,\n",
              "        0.08134636,  0.3522591 ,  0.54816074,  1.0433008 ,  1.51578473])"
            ]
          },
          "metadata": {},
          "execution_count": 63
        }
      ]
    },
    {
      "cell_type": "code",
      "source": [
        "#22 mashq                        Chala\n",
        "a = np.random.randn(4)\n",
        "b = np.random.randn(4)\n",
        "\n",
        "teng = np.array_equal(a, b)\n",
        "teng"
      ],
      "metadata": {
        "colab": {
          "base_uri": "https://localhost:8080/"
        },
        "id": "UYGDzExorG8x",
        "outputId": "20d04052-3775-4fc5-ba65-a47783143528"
      },
      "execution_count": 87,
      "outputs": [
        {
          "output_type": "execute_result",
          "data": {
            "text/plain": [
              "False"
            ]
          },
          "metadata": {},
          "execution_count": 87
        }
      ]
    },
    {
      "cell_type": "code",
      "source": [
        "#23 mashq\n",
        "#Yuqorida bajarilgan ekan"
      ],
      "metadata": {
        "id": "dOirohVz8yMQ"
      },
      "execution_count": null,
      "outputs": []
    },
    {
      "cell_type": "code",
      "source": [
        "#24 mashq\n",
        "arg = np.random.randn(5)\n",
        "arg\n",
        "te = np.argmax(arg, axis = None)\n",
        "te"
      ],
      "metadata": {
        "colab": {
          "base_uri": "https://localhost:8080/"
        },
        "id": "-Qv17WIo-HJv",
        "outputId": "94022df3-83c7-49f4-b9f8-08866aaa5a2d"
      },
      "execution_count": 89,
      "outputs": [
        {
          "output_type": "execute_result",
          "data": {
            "text/plain": [
              "2"
            ]
          },
          "metadata": {},
          "execution_count": 89
        }
      ]
    },
    {
      "cell_type": "code",
      "source": [
        "#25 mashq\n",
        "print(sum(range(5),-1))\n",
        "from numpy import *\n",
        "print(sum(range(5),-1))"
      ],
      "metadata": {
        "colab": {
          "base_uri": "https://localhost:8080/"
        },
        "id": "KwDEPWQE-Pvp",
        "outputId": "a4b07149-f6d0-4af3-d770-08ae4ff27782"
      },
      "execution_count": 91,
      "outputs": [
        {
          "output_type": "stream",
          "name": "stdout",
          "text": [
            "10\n",
            "10\n"
          ]
        }
      ]
    },
    {
      "cell_type": "code",
      "source": [
        "#26 va 27 mashq tayyrolangan\n"
      ],
      "metadata": {
        "id": "z88_f6nm-6Zv"
      },
      "execution_count": 92,
      "outputs": []
    },
    {
      "cell_type": "code",
      "source": [
        "#28 mashq\n",
        "import datetime\n",
        "today = datetime.datetime.now().date()\n",
        "yesterday = today - datetime.timedelta(days =1)\n",
        "tomorrow = today + datetime.timedelta(days =1)\n",
        "\n",
        "today, yesterday, tomorrow"
      ],
      "metadata": {
        "colab": {
          "base_uri": "https://localhost:8080/"
        },
        "id": "uIoRffXeAGmB",
        "outputId": "98e4faaa-bfab-46dd-d761-b15dc2032d68"
      },
      "execution_count": 95,
      "outputs": [
        {
          "output_type": "execute_result",
          "data": {
            "text/plain": [
              "(datetime.date(2023, 2, 11),\n",
              " datetime.date(2023, 2, 10),\n",
              " datetime.date(2023, 2, 12))"
            ]
          },
          "metadata": {},
          "execution_count": 95
        }
      ]
    },
    {
      "cell_type": "code",
      "source": [
        "#29 mashq\n"
      ],
      "metadata": {
        "id": "lMQM98B9A8Zv"
      },
      "execution_count": null,
      "outputs": []
    },
    {
      "cell_type": "code",
      "source": [
        "#30 mash ham tayyorlangan"
      ],
      "metadata": {
        "id": "BzLFShAhBiJj"
      },
      "execution_count": 96,
      "outputs": []
    },
    {
      "cell_type": "code",
      "source": [
        "#31 mashq ham tayyorlangan"
      ],
      "metadata": {
        "id": "VcNl_49UBkXV"
      },
      "execution_count": 97,
      "outputs": []
    },
    {
      "cell_type": "code",
      "source": [
        "#32 ham tayyorlangan"
      ],
      "metadata": {
        "id": "maeLnmj0BoYx"
      },
      "execution_count": 98,
      "outputs": []
    },
    {
      "cell_type": "code",
      "source": [
        "#33 shart\n",
        "f = np.arange(20)\n",
        "k = np.add.reduce(f)\n",
        "k"
      ],
      "metadata": {
        "colab": {
          "base_uri": "https://localhost:8080/"
        },
        "id": "OfZ2IHm9Bsdo",
        "outputId": "93f0c19a-babe-4d12-a647-1ce6a7c7ed85"
      },
      "execution_count": 100,
      "outputs": [
        {
          "output_type": "execute_result",
          "data": {
            "text/plain": [
              "190"
            ]
          },
          "metadata": {},
          "execution_count": 100
        }
      ]
    },
    {
      "cell_type": "code",
      "source": [
        "#34 mashq tayyorlangan"
      ],
      "metadata": {
        "id": "ZmSMwfwjB9KD"
      },
      "execution_count": 3,
      "outputs": []
    },
    {
      "cell_type": "code",
      "source": [
        "#35 mash\n",
        "ar = np.array([1, 2, 3, 4, 5])\n",
        "result = ar * 100\n",
        "result"
      ],
      "metadata": {
        "colab": {
          "base_uri": "https://localhost:8080/"
        },
        "id": "Raj-YT7eda9d",
        "outputId": "5caadeab-0c54-4226-efa8-c9dcde2de60f"
      },
      "execution_count": 5,
      "outputs": [
        {
          "output_type": "execute_result",
          "data": {
            "text/plain": [
              "array([100, 200, 300, 400, 500])"
            ]
          },
          "metadata": {},
          "execution_count": 5
        }
      ]
    },
    {
      "cell_type": "code",
      "source": [
        "#36 mashq\n",
        "q = np.array([1, 2, 3, 4, 5, 6, 7, 8, 9, 10, 11, 12, 13, 14])\n",
        "t = np.lib.stride_tricks.as_strided(q, shape=(12,3), strides=(4,4))\n",
        "t"
      ],
      "metadata": {
        "colab": {
          "base_uri": "https://localhost:8080/"
        },
        "id": "OyajCfCWf6QL",
        "outputId": "8de2b825-8d97-40bb-b69e-7f59736aea02"
      },
      "execution_count": 11,
      "outputs": [
        {
          "output_type": "execute_result",
          "data": {
            "text/plain": [
              "array([[          1,  8589934592,           2],\n",
              "       [ 8589934592,           2, 12884901888],\n",
              "       [          2, 12884901888,           3],\n",
              "       [12884901888,           3, 17179869184],\n",
              "       [          3, 17179869184,           4],\n",
              "       [17179869184,           4, 21474836480],\n",
              "       [          4, 21474836480,           5],\n",
              "       [21474836480,           5, 25769803776],\n",
              "       [          5, 25769803776,           6],\n",
              "       [25769803776,           6, 30064771072],\n",
              "       [          6, 30064771072,           7],\n",
              "       [30064771072,           7, 34359738368]])"
            ]
          },
          "metadata": {},
          "execution_count": 11
        }
      ]
    },
    {
      "cell_type": "code",
      "source": [
        "#37 mashq\n"
      ],
      "metadata": {
        "id": "8R4DTjYmhR9x"
      },
      "execution_count": null,
      "outputs": []
    }
  ]
}